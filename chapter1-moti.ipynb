{
 "cells": [
  {
   "cell_type": "markdown",
   "metadata": {},
   "source": [
    "# Botter-book"
   ]
  },
  {
   "cell_type": "markdown",
   "metadata": {
    "collapsed": false
   },
   "source": [
    "## §1. HTML5を学ぶ"
   ]
  },
  {
   "cell_type": "markdown",
   "metadata": {
    "collapsed": false
   },
   "source": [
    "### §1-1. HTMLとは"
   ]
  },
  {
   "cell_type": "markdown",
   "metadata": {
    "collapsed": false
   },
   "source": [
    "HTMLとは、ウェブ上で使われる**マークアップ言語**と呼ばれるものです。HTMLファイルに記述されている内容は、FirefoxやGoogleChromeなどのウェブブラウザを介して視覚表現として整形されます。  \n",
    "整形される前の本来のコードは、ウェブページを開いて、メニューから「ソースを表示」などを選択することで確認ができます。"
   ]
  },
  {
   "cell_type": "markdown",
   "metadata": {
    "collapsed": false
   },
   "source": [
    "HTMLのコードは、その一つ一つが**要素(element)**と呼ばれるもので構成されています。要素のことを**タグ**と呼ぶ場合もあります。  \n",
    "様々な種類の要素があり、要素の書き方はそれぞれ次の２つのうちの何れかです。\n",
    "1. `<abc>...</abc>`\n",
    "1. `<abc>`\n",
    "\n",
    "`<abc>`を**開始タグ**と呼び、`</abc>`を**終了タグ**と呼びます。\n",
    "\n",
    "１つ目は、開始タグと終了タグで間に要素の内容を含みます。  \n",
    "要素の内容には、表示したい文字列や、更に別の要素などが含まれて、**入れ子構造**になっています。\n",
    "\n",
    "２つ目は、開始タグのみで構成されています。要素の内容が不要なものについて、この書き方が使われています。\n",
    "\n",
    "開始タグには**属性**を含める場合があります。属性には値を指定することが多いです。  \n",
    "&lt;abc&gt;要素のpropという属性に、値valueを指定する場合は\n",
    "- `<abc property=value>`\n",
    "\n",
    "というように書く事ができます。"
   ]
  },
  {
   "cell_type": "markdown",
   "metadata": {
    "collapsed": false
   },
   "source": [
    "HTMLを使って、Hello, world!を表示させてみましょう。  \n",
    "```html\n",
    "<!DOCTYPE html>\n",
    "<html lang=\"ja\">\n",
    "\n",
    "<head>\n",
    "    <meta charset=\"UTF-8\">\n",
    "    <title>Hello World Sample Code</title>\n",
    "</head>\n",
    "\n",
    "<body>\n",
    "    <p>Hello, world!</p>\n",
    "    <p>まずは手始めにBotterから作ってみよう。</p>\n",
    "</body>\n",
    "\n",
    "</html>\n",
    "```"
   ]
  },
  {
   "cell_type": "markdown",
   "metadata": {},
   "source": [
    "はじめに、`<!DOCTYPE html>`から始まります。これをDOCTYPE宣言と呼ばれています。これは次のセクションで説明します。\n",
    "\n",
    "順に、各要素について説明していきます。\n",
    "\n",
    "**&lt;html&gt;要素** : `<html>〜</html>`と書かれ、要素の内容には以下に挙げる&lt;head&gt;要素と&lt;body&gt;要素を含む   \n",
    "属性langには、記述されている言語の指定ができます。日本語であれば、`<html lang=\"ja\">`で、英語であれば、`<html lang=\"en\">`です。  \n",
    "\n",
    "&lt;html&gt;要素には、要素の内容として次の2つが順に入ります。\n",
    "1. **&lt;head&gt;要素** : `<head>〜</head>`と書かれ、要素の内容にHTMLファイルの基本的な設定情報の記述を含む\n",
    "1. **&lt;body&gt;要素** : `<body>〜</body>`と書かれ、要素の内容にブラウザに表示される内容の記述を含む\n",
    "\n",
    "&lt;head&gt;要素の内容を見てみましょう。例では次の２つが書かれています。\n",
    "1. **&lt;meta&gt;要素** : `<meta 属性=...>`と書かれ、メタデータと呼ばれるHTMLの設定情報を指定する  \n",
    "以下のように書くことで、HTMLファイルの**文字エンコーディング**が**UTF-8**であることを指定することができます。\n",
    "```html\n",
    "<meta charset=\"UTF-8\">\n",
    "```\n",
    "  \n",
    "1. **&lt;title&gt;要素** : `<title>〜</title>`と書かれ、要素の内容にツールバーに表示する文字列を指定する\n",
    "\n",
    "&lt;body&gt;要素の内容を見てみましょう。例では**&lt;p&gt;要素**が2つ書かれています。\n",
    "\n",
    "**&lt;p&gt;要素** : `<p>〜</p>`と書かれ、要素の内容として指定した文字列を表示する"
   ]
  },
  {
   "cell_type": "markdown",
   "metadata": {},
   "source": [
    "例にあげたコードをemacsに貼り付けて、*1-1-0.html*というファイル名で保存します。\n",
    "\n",
    "ターミナルで、\n",
    "> firefox 1-1-0.html\n",
    "\n",
    "と入力し、ブラウザで開いてみましょう。以下の様に表示されれば成功です。\n",
    "\n",
    ">Hello, world!\n",
    "\n",
    ">まずは手始めにBotterから作ってみよう。\n"
   ]
  },
  {
   "cell_type": "markdown",
   "metadata": {},
   "source": [
    "### §1-2. HTML5を使おう"
   ]
  },
  {
   "cell_type": "markdown",
   "metadata": {
    "collapsed": false
   },
   "source": [
    "HTMLは、長きに渡りHTML4.01やXHTML1.0として定義された仕様をもとに記述されてきました。\n",
    "\n",
    "現在では、**HTML5**([HTML Living Standard](https://html.spec.whatwg.org/multipage/))という仕様に沿って記述されています。\n",
    "\n",
    "HTML4.01やXHTML1.0の時代より簡明で構造的な記述ができます。また、**canvas**という2D図形描画の機能や、より多くのメディアファイルの再生などもサポートしています。\n",
    "\n",
    "HTML5という言葉は、モダンなWeb技術を表す言葉としても広く使われていて、その多くは[WHATWG](https://whatwg.org/)(ワットダブリュージー, Web Hypertext Application Technology Working Group) \n",
    "あるいは、[W3C](https://www.w3.org/)(ダブリュースリーシー, World Wide Web Consortium)によって開発されています。"
   ]
  },
  {
   "cell_type": "markdown",
   "metadata": {
    "collapsed": false
   },
   "source": [
    "----\n",
    "HTMLのコードが、HTML5の仕様か、それ以前の仕様で書かれているかを簡単に確認してみましょう。\n",
    "\n",
    "HTMLファイルのはじめの行には、以下のような**DOCTYPE宣言**を記述しました。\n",
    "```html\n",
    "<!DOCTYPE html>\n",
    "```\n",
    "これは、**テキストがHTML5で書かれていることを明示**しています。\n",
    "\n",
    "それに対してHTML4.01では、DOCTYPE宣言はおよそ以下のように書かれています。\n",
    "```html\n",
    "<!DOCTYPE HTML PUBLIC \"-//W3C//DTD HTML 4.01 Transitional//EN\" \"http://www.w3.org/TR/html4/loose.dtd\">\n",
    "```\n",
    "HTMLのバージョンと仕様を明確にするために、このような記述がされています。XHTML1.0は以下のようになります。\n",
    "```xhtml\n",
    "<!DOCTYPE html PUBLIC \"-//W3C//DTD XHTML 1.0 Transitional//EN\" \"http://www.w3.org/TR/xhtml1/DTD/xhtml1-transitional.dtd\">\n",
    "```\n",
    "しかし、このような長い記述はもはや不要であると判断されたため、HTML5ではシンプルな記述になっています。"
   ]
  },
  {
   "cell_type": "markdown",
   "metadata": {},
   "source": [
    "### §1-3. スクリプトを実行しよう"
   ]
  },
  {
   "cell_type": "markdown",
   "metadata": {},
   "source": [
    "#### §1-3-1. ブラウザでJavaScriptのコードを実行しよう"
   ]
  },
  {
   "cell_type": "markdown",
   "metadata": {
    "collapsed": true
   },
   "source": [
    "JavaScriptとは、Webページ上やターミナル上で実行できる言語です。  \n",
    "HTMLには、JavaScriptのコードを含めることができます。**&lt;script&gt;要素**を使って書くことができます。\n",
    "```html\n",
    "<html lang=\"ja\">\n",
    "\n",
    "<head>\n",
    "    <meta charset=\"UTF-8\">\n",
    "    <title>Hello, JavaScript</title>\n",
    "</head>\n",
    "\n",
    "<body>\n",
    "<script>\n",
    "document.addEventListener( 'DOMContentLoaded', function(){\n",
    "  document.body.appendChild(document.createTextNode(location.href));\n",
    "}, false );\n",
    "</script>\n",
    "</body>\n",
    "\n",
    "</html>\n",
    "```\n",
    "\n",
    "**src**という属性を用いることで、外部ファイルを読み込むことができます。  \n",
    "以下は、ルートディレクトリにあるJavaScriptのコードを記述したファイル *./sample.js* を読み込む例です。\n",
    "\n",
    "```html\n",
    "<script src=\"./sample.js\"></script>\n",
    "```\n",
    "&lt;script&gt;要素には、**type**という属性があります。値には**MIMEタイプ**と呼ばれる、ファイルの形式を示す文字列が入ります。  \n",
    "HTML5では初期値が　*type=\"text/javascript\"*　に設定されているため、今回はtype属性を書く必要がありません。"
   ]
  },
  {
   "cell_type": "markdown",
   "metadata": {},
   "source": [
    "#### §1-3-2. jupyterでNode.jsを使おう"
   ]
  },
  {
   "cell_type": "markdown",
   "metadata": {
    "collapsed": true
   },
   "source": [
    "**Node.js**とは、サーバーサイドJavaScript環境と呼ばれているもので、これを利用することで、ターミナルにコマンドを打ち込むだけでJavaScriptのコードを実行することができます。\n",
    "\n",
    "今回、Node.jsの環境をjupyter上に用意しました。\n",
    "\n",
    "以下のコードが書いてある部分をクリックし、'1234' という数値を好きな値に書き換えて、ツールバーにある再生ボタンをクリックしてみましょう。"
   ]
  },
  {
   "cell_type": "code",
   "execution_count": 4,
   "metadata": {
    "collapsed": false
   },
   "outputs": [
    {
     "name": "stdout",
     "output_type": "stream",
     "text": [
      "Hello, Node.js!\n",
      "Your input number is '1234'.\n"
     ]
    }
   ],
   "source": [
    "// コードここから\n",
    "var i = 1234;\n",
    "console.log(\"Hello, Node.js!\\nYour input number is '\" + i + \"'.\");\n",
    "// コードここまで"
   ]
  },
  {
   "cell_type": "markdown",
   "metadata": {
    "collapsed": true
   },
   "source": [
    "ブラウザで動くJavaScriptとNode.jsの簡単な違い(console.logとか)"
   ]
  },
  {
   "cell_type": "markdown",
   "metadata": {},
   "source": [
    "### §1-4. DOMを理解しよう"
   ]
  },
  {
   "cell_type": "markdown",
   "metadata": {},
   "source": [
    "**DOM**(Document Object Model)とは、各要素に動的にアクセスする仕組み(API)のことです。  \n",
    "Web上で実行できるJavaScriptなど言語からDOMを扱い、属性の値や要素の内容を取得・変更することが出来ます。"
   ]
  },
  {
   "cell_type": "markdown",
   "metadata": {
    "collapsed": true
   },
   "source": [
    "JavaScriptの簡単な説明\n",
    "JavaScriptからDOMを扱う例だよ\n",
    "\n",
    "DOMのいろんな操作はいらない。\n",
    "関数を説明してないからコールバック関数も書かない。addEventListener()は関数のセクションにぶっこむ。\n",
    "最悪、setTimeout()とかalert()使うか…\n",
    "\n",
    "端的にDOMをどうやって扱うかを説明できれば終わり。"
   ]
  },
  {
   "cell_type": "markdown",
   "metadata": {},
   "source": [
    "```javascript\n",
    "var tweetForm = document.getElementById(\"tweet\");\n",
    "```"
   ]
  },
  {
   "cell_type": "markdown",
   "metadata": {},
   "source": [
    "### §1-5. 関数"
   ]
  },
  {
   "cell_type": "markdown",
   "metadata": {},
   "source": [
    "#### §1-5-1. 関数とは"
   ]
  },
  {
   "cell_type": "markdown",
   "metadata": {},
   "source": [
    "\n",
    "めも：\n",
    "今まで説明した命令で、簡潔な例。を題材にして、意味のある関数名を付ける。\n",
    "\n",
    "[10:21]  \n",
    "これでだいぶマシになるかと。\n",
    "\n",
    "[10:22]  \n",
    "innerHTML adjacent 系で文字列でタグを埋め込む方法より、createText, appendChild等を使った方法で、その複数行を関数化で省略できる。のほうがありがたみ強いですよね。"
   ]
  },
  {
   "cell_type": "markdown",
   "metadata": {},
   "source": [
    "```javascript\n",
    "document.addEventListener( 'DOMContentLoaded', function(){\n",
    "  document.body.appendChild(document.createTextNode(location.href));\n",
    "}, false );\n",
    "```\n",
    "\n",
    "※ DOMContentLoaded にすべきか、init()っていう関数呼び出すだけにするか\n",
    "DOMContentLoadedいらないのでは？って気がする\n",
    "\n",
    "これを複数行な感じに拡大して、関数化していい感じでしょ？ってのを示す。\n",
    "\n",
    "innerHTMLは下手に書く癖つけるとXSSの脆弱性ができるっぽいので、botterのコードに合わせて\n",
    "\n",
    "messageList.innerHTML = \"\";\n",
    "\n",
    "みたいな処理書いて、あとはappendChild()のほうが良さそう？"
   ]
  },
  {
   "cell_type": "code",
   "execution_count": null,
   "metadata": {
    "collapsed": true
   },
   "outputs": [],
   "source": []
  },
  {
   "cell_type": "markdown",
   "metadata": {},
   "source": [
    "#### §1-5-2. 無名関数とは"
   ]
  },
  {
   "cell_type": "markdown",
   "metadata": {
    "collapsed": true
   },
   "source": [
    "一言で、「無名関数便利じゃない？主にコールバック関数に無名関数が使われるよ」ってのを示す。\n",
    "\n",
    "幾つかコールバック関数を引数にとる関数の例を見てみましょう。\n",
    "\n",
    "botterのに習って\n",
    "- map\n",
    "- forEach\n",
    "- addEventListener\n",
    "の3つを紹介する\n",
    "\n",
    "※botterのコード自体はまだ参照させなくてもいいかな、と言う感じがする。\n",
    "（botterのコードとできるだけ近いコードを例に上げるようにする）\n",
    "\n",
    "'tweets'とかここまでの文脈にないし、（たとえ抜粋したとしても）botterのコード往復させる感じよりは、\n",
    "上から読み進めていったら必要なものは全て揃ってました。最後に確認がてらbotterのコード見ましょう、のほうが個人的に良い気がする\n",
    "\n",
    "※ただ、セクションごとは独立させないで、前で使った内容をすぐに次以降でも使うようしたほうが良い。\n",
    "その繰り返しで、botterまできてた、ってのがよい\n",
    "逆に、まだ説明しない内容は一切書かないってくらいにしたい。あとで説明するとか極力書かない"
   ]
  },
  {
   "cell_type": "markdown",
   "metadata": {},
   "source": [
    "### §1-6. localStorage を使おう"
   ]
  },
  {
   "cell_type": "markdown",
   "metadata": {},
   "source": [
    "ここまでの知識　＋ localStorageを使って、なんか動いてるもんを作る"
   ]
  },
  {
   "cell_type": "markdown",
   "metadata": {},
   "source": [
    "### §1-7. Immutable.js を使おう"
   ]
  },
  {
   "cell_type": "markdown",
   "metadata": {},
   "source": [
    "#### §1-7-1. Immutable.js とは"
   ]
  },
  {
   "cell_type": "markdown",
   "metadata": {},
   "source": [
    "facebook社製のJavaScriptライブラリ\n",
    "JavaScriptにコレクションって呼ばれるたぐいのデータ構造を提供してくれるライブラリだよ！\n",
    "\n",
    "- Immutable.List\n",
    "- Immutable.Map\n"
   ]
  },
  {
   "cell_type": "markdown",
   "metadata": {},
   "source": [
    "### §1-8. Botter を作ろう"
   ]
  },
  {
   "cell_type": "code",
   "execution_count": null,
   "metadata": {
    "collapsed": true
   },
   "outputs": [],
   "source": [
    "多分、全部説明した。\n",
    "\n",
    "\n",
    "。。。あとは、「演習」と「チェックポイント」を挟んでくアレだ。\n",
    "全部演習するような内容なさそうだし、チェックポイント中心に各セクションにこまめにおいていくのが良いのでは？"
   ]
  },
  {
   "cell_type": "markdown",
   "metadata": {},
   "source": [
    "## 演習"
   ]
  },
  {
   "cell_type": "markdown",
   "metadata": {},
   "source": [
    "以下のプログラムをifが式であることを利用して、書き直せ。"
   ]
  },
  {
   "cell_type": "code",
   "execution_count": 21,
   "metadata": {
    "collapsed": false
   },
   "outputs": [
    {
     "data": {
      "text/plain": [
       "[5, 8]"
      ]
     },
     "execution_count": 21,
     "metadata": {},
     "output_type": "execute_result"
    }
   ],
   "source": [
    "x, y = 5, 8"
   ]
  },
  {
   "cell_type": "code",
   "execution_count": 22,
   "metadata": {
    "collapsed": false
   },
   "outputs": [
    {
     "data": {
      "text/plain": [
       "10"
      ]
     },
     "execution_count": 22,
     "metadata": {},
     "output_type": "execute_result"
    }
   ],
   "source": [
    "if x > 3 then\n",
    "    x2 = x * 2\n",
    "else\n",
    "    x2 = x\n",
    "end"
   ]
  },
  {
   "cell_type": "code",
   "execution_count": 25,
   "metadata": {
    "collapsed": false
   },
   "outputs": [
    {
     "data": {
      "text/plain": [
       "2"
      ]
     },
     "execution_count": 25,
     "metadata": {},
     "output_type": "execute_result"
    }
   ],
   "source": [
    "if y % 3 == 0 then\n",
    "    y2 = y / 3\n",
    "else\n",
    "    y2 = y % 3\n",
    "end"
   ]
  },
  {
   "cell_type": "code",
   "execution_count": 26,
   "metadata": {
    "collapsed": false
   },
   "outputs": [
    {
     "name": "stdout",
     "output_type": "stream",
     "text": [
      "x2 * y2 = 20\n"
     ]
    }
   ],
   "source": [
    "puts \"x2 * y2 = #{x2 * y2}\""
   ]
  },
  {
   "cell_type": "markdown",
   "metadata": {},
   "source": [
    "## チェックポイント"
   ]
  },
  {
   "cell_type": "markdown",
   "metadata": {},
   "source": [
    "1. HTML5\n",
    "    1. 文字エンコーディングを\"UTF-8\"に指定するコードを書け。\n",
    "    1. `js/sample.js`を読み込むコードを書け。\n",
    "    1. `css/common.css`を読み込むコードを書け。また、このコードは普通HTMLファイルのどこに書かれるか。"
   ]
  },
  {
   "cell_type": "code",
   "execution_count": null,
   "metadata": {
    "collapsed": true
   },
   "outputs": [],
   "source": []
  },
  {
   "cell_type": "code",
   "execution_count": null,
   "metadata": {
    "collapsed": true
   },
   "outputs": [],
   "source": []
  }
 ],
 "metadata": {
  "kernelspec": {
   "display_name": "NodeJS",
   "language": "javascript",
   "name": "nodejs"
  },
  "language_info": {
   "codemirror_mode": "javascript",
   "file_extension": "js",
   "mimetype": "text/javascript",
   "name": "nodejs",
   "pygments_lexer": "javascript",
   "version": "0.10"
  }
 },
 "nbformat": 4,
 "nbformat_minor": 0
}
