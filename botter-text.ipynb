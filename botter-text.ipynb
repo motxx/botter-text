{
 "cells": [
  {
   "cell_type": "markdown",
   "metadata": {},
   "source": [
    "# Botter-book"
   ]
  },
  {
   "cell_type": "markdown",
   "metadata": {
    "collapsed": false
   },
   "source": [
    "## §1. HTMLとは何か"
   ]
  },
  {
   "cell_type": "markdown",
   "metadata": {
    "collapsed": false
   },
   "source": [
    "### §1-1. HTMLとは"
   ]
  },
  {
   "cell_type": "markdown",
   "metadata": {
    "collapsed": false
   },
   "source": [
    "私たちが、普段見ているWebページは、HTMLという言語によって書かれています。HTMLは、科学的な分野で**文書(document)**を論理的に記述するための言語として開発されました。文書を論理的に記述するためには、適切な見出し、段落、表、リストなどが必要です。HTMLはこれらの要素をサポートしています。HTMLはHyper Text Markup Languageの略で、**ハイパーテキスト**の仕組みが存在する**マークアップ言語**です。ハイパーテキストとは、複数の文書どうしを関連付ける仕組みのことです。HTMLでは、この仕組みを**ハイパーリンク**を用いることで実現しています。ハイパーリンクは単に**リンク**とも呼ばれ、クリックすることでWebページから別のWebページに遷移することができます。マークアップ言語とは、視覚表現や文書構造などを記述するための形式言語です。HTMLは、以下のコードのように書かれていて、ファイルの拡張子は*.html*です。"
   ]
  },
  {
   "cell_type": "markdown",
   "metadata": {},
   "source": [
    "<p style=\"padding-left: 10px\"><em>sample1-1.html</em></p>\n",
    "```html\n",
    "<!DOCTYPE html>\n",
    "<html lang=\"ja\">\n",
    "<head>\n",
    "    <meta charset=\"UTF-8\">\n",
    "    <title>HTML Sample</title>\n",
    "</head>\n",
    "<body>\n",
    "    <h1>見出し1</h1>\n",
    "    <h2>見出し2</h2>\n",
    "    <h3>見出し3</h3>\n",
    "    <p>段落</p>\n",
    "    <h3>見出し3</h3>\n",
    "    <p>段落</p>\n",
    "</body>\n",
    "</html>\n",
    "```"
   ]
  },
  {
   "cell_type": "markdown",
   "metadata": {},
   "source": [
    "HTMLファイルをブラウザで表示させてみましょう。*sample1-1.html* のコードをEmacsエディタに貼り付けて保存します。firefoxで開きます。ターミナル上で、\n",
    "> $ firefox sample1-1.html\n",
    "\n",
    "と入力することでファイルを開くことができます。今後、この手順でHTMLを表示していきます。以下のように表示されれば成功です。"
   ]
  },
  {
   "cell_type": "markdown",
   "metadata": {},
   "source": [
    "![ex1-1.htmlの表示例](https://github.com/motxx/botter-text/blob/master/images/ex-first-html.png?raw=true)"
   ]
  },
  {
   "cell_type": "markdown",
   "metadata": {},
   "source": [
    "開発された当初の科学的な分野での利用の範囲を超えて、より一般的にHTML文書が書かれるようになり、それに伴いHTMLの仕様と、それを表示するブラウザも度々更新されてきました。\n",
    "- HTML1.0, HTML+\n",
    "- HTML2.0\n",
    "- HTML3.0, HTML3.2\n",
    "- HTML4.0, HTML4.01\n",
    "- HTML5<!--, HTML5.1, HTML Living Standard 冗長として消した-->\n",
    "\n",
    "現行の仕様は**HTML5**に沿って書かれています。本課外プロジェクトでも、HTML5の仕様を元に進めていきます。"
   ]
  },
  {
   "cell_type": "markdown",
   "metadata": {},
   "source": [
    "### §1-2. HTMLの基本構文"
   ]
  },
  {
   "cell_type": "markdown",
   "metadata": {},
   "source": [
    "##### DOCTYPE宣言\n",
    "HTMLは、**DOCTYPE宣言**を書くことから始めます。DOCTYPE宣言によって、**HTMLがどのバージョンのものか**を明確にしています。HTML5であることを示すには、以下のように書きます。\n",
    "```html\n",
    "<!DOCTYPE html>\n",
    "```\n",
    "#1 HTML4.01のDOCTYPE宣言\n",
    "\n",
    "ちなみに、HTML4.01のときは、次のようなDOCTYPE宣言がされていました。\n",
    "```html\n",
    "<!DOCTYPE HTML PUBLIC \"-//W3C//DTD HTML 4.01 Transitional//EN\" \"http://www.w3.org/TR/html4/loose.dtd\">\n",
    "```\n",
    "HTML4.01までのDOCTYPE宣言は、その文書がどんな定義(DTD)にもとづいて書かれているかを正確に記述するために、長い表記をしていました。しかし、実際にブラウザが正確に記述を読み取っていないことや、記述されたコードが厳密に定義に沿っていないものが多く存在しました。そのため、HTML5では長い記述は不要と判断されて、シンプルな記述になりました。"
   ]
  },
  {
   "cell_type": "markdown",
   "metadata": {},
   "source": [
    "##### 要素\n",
    "HTMLは、**要素(element)**の集まりで書かれています。\n",
    "要素は、図1.2のように <span style=\"background-color: #F5F5F5; padding: 2px; margin: 2px; border-radius: 2px; border: 1px solid black;\">&lt;</span>と<span style=\"background-color: #F5F5F5; padding: 2px; margin: 2px; border-radius: 2px; border: 1px solid black;\">&gt;</span>で囲まれる**開始タグ**、<span style=\"background-color: #F5F5F5; padding: 2px; margin: 2px; border-radius: 2px; border: 1px solid black;\">&lt;/</span>と<span style=\"background-color: #F5F5F5; padding: 2px; margin: 2px; border-radius: 2px; border: 1px solid black;\">&gt;</span>で囲まれる**終了タグ**、その間の要素の内容で構成されます。\n",
    "![要素の構成](https://github.com/motxx/botter-text/blob/master/images/ex-desc-element.png?raw=true)\n",
    "開始タグしか持たない要素も存在します。*sample1-1.html* では<span style=\"background-color: #F5F5F5; padding: 2px; margin: 2px; border-radius: 2px; border: 1px solid black;\">&lt;meta&gt;</span>要素が、終了タグを持ちません。  "
   ]
  },
  {
   "cell_type": "markdown",
   "metadata": {},
   "source": [
    "##### ブロックレベル要素とインライン要素\n",
    "要素の種類には、**ブロックレベル要素**と**インライン要素**があります。ブロックレベル要素とは、見出し、段落などのように一つのかたまりと見なされる要素です。ブロックレベル要素の中には、更に別のブロックレベル要素が含まれて大きなかたまりを作ることがあります。ブロックレベル要素には以下のようなものがあります。\n",
    "<p style=\"background-color: #E3F2FD; padding: 5px 10px 5px 10px; margin: 10px 2px 10px 0px; border-radius: 2px; border: 1px solid #64B5F6;\">&lt;head&gt;, &lt;body&gt;, &lt;h1&gt;-&lt;h6&gt;, &lt;p&gt;, &lt;div&gt;, &lt;input&gt;, ...</p>\n",
    "それに対してインライン要素とは、文中に挿入されて用いられる要素で、ブロックレベル要素の中に含まれます。     \n",
    "<p style=\"background-color: #E3F2FD; padding: 5px 10px 5px 10px; margin: 10px 2px 10px 0px; border-radius: 2px; border: 1px solid #64B5F6;\">&lt;strong&gt;, &lt;em&gt;, &lt;span&gt;, ...</p>\n",
    "インライン要素の中に、ブロックレベル要素が含まれてはいけません。\n",
    "```html\n",
    "<div><p>これは正しい例。ブロック要素の中に、<strong>インライン要素</strong>が含まれている</p></div>\n",
    "```\n",
    "```html\n",
    "<strong><input>これは、間違った例。インライン要素の中に、ブロック要素が含まれている。</input></strong>\n",
    "```"
   ]
  },
  {
   "cell_type": "markdown",
   "metadata": {},
   "source": [
    "##### コメント\n",
    "<span style=\"background-color: #F5F5F5; padding: 2px; margin: 2px; border-radius: 2px; border: 1px solid black;\">&lt;!--</span> と <span style=\"background-color: #F5F5F5; padding: 2px; margin: 2px; border-radius: 2px; border: 1px solid black;\">&gt;</span> で囲まれた部分があります。これはコメントで、文中の好きな箇所に挿入できます。文書の構造が分かりにくいときや、文を変更したものの以前の文も残して置きたい場合に使われます。\n",
    "```html\n",
    "<p><!-- HTMLではコメントが書けます　-->HTMLでは、&lt;!-- と --&gt; で文字列を囲うことで、その部分をコメントとして扱うことができます。</p>\n",
    "```"
   ]
  },
  {
   "cell_type": "markdown",
   "metadata": {},
   "source": [
    "##### 要素の一覧\n",
    "最後に、よく使われる要素について見てみましょう。より詳しくは、[HTMLリファレンス](http://www.htmq.com/html5/index.shtml)が参考になります。\n",
    "\n",
    "|要素|属性|用途・例|\n",
    "|:--:|:--|:--|\n",
    "|**`<html>`**|lang|ルート要素と呼ばれ、&lt;head&gt;要素と&lt;body&gt;要素を含む。|\n",
    "|**`<head>`**||HTML文書に関するメタデータを集めたもの。<br>&lt;head&gt; (`<meta>`要素、`<title>`要素などのメタデータ) &lt;/head&gt;|\n",
    "|**`<meta>`**|charset|文書のメタデータを指定する。charset属性を用いることで、文字エンコーディングの指定ができる。<br>&lt;meta charset=\"UTF-8\"&gt;|\n",
    "|**`<title>`**||ツールバーに表示する文字列を指定する。<br>&lt;title&gt;Botter&lt;/title&gt;|\n",
    "|**`<script>`**|src, type|実行するJavaScriptのソースコードを記述する。また、コードが書かれた外部ファイルを読み込むこともできる。<br>&lt;script src=\"<span>http</span>://cdnjs.cloudflare.com/ajax/libs/immutable/3.8.1/immutable.min.js\"&gt;&lt;/script&gt;<br>&lt;script type=\"text/javascript\" src=\"./main.js\"&gt;&lt;/script&gt;</script>|\n",
    "|**`<body>`**||表示するHTML本文を記述する。<br>&lt;body&gt; (&lt;h1&gt;要素や&lt;p&gt;要素などによる本文) &lt;/body&gt;|\n",
    "|**`<div>`**||複数の要素を一つのグループにまとめる。id, classなどの汎用属性とともに使われることが多い。|\n",
    "|**`<h1>-<h6>`**||見出しを表示する。&lt;h1&gt;が最も大きい見出しで、&lt;h6&gt;まで順に小さくなる。<br>&lt;h1&gt;大見出し&lt;/h1&gt;|\n",
    "|**`<p>`**||段落(paragraph)を表示する。要素の内容に表示したいテキストを記述できる。<br>&lt;p&gt;あのイーハトーヴォのすきとおった風、夏でも底に冷たさをもつ青いそら&lt;/p&gt;|\n",
    "|**`<a>`**|href|ハイパーリンクを作る。アンカー要素とよばれる。<br>&lt;a href=\"<span>http</span>://google.com\"&gt;Google&lt;/a&gt;|\n",
    "|**`<ul>`**||順序なしリストを表示する。<br>&lt;ul&gt;<br>&nbsp;&nbsp;&nbsp;&nbsp;&lt;li&gt;りんご&lt;/li&gt;<br>&nbsp;&nbsp;&nbsp;&nbsp;&lt;li&gt;バナナ&lt;/li&gt;<br>&lt;/ul&gt;|\n",
    "|**`<li>`**||リストの項目を表示する。|\n",
    "|**`<input>`**|type, placeholder|入力のフォーム部品を表示する。<br>&lt;input type=\"text\" placeholder=\"ここにツイートを書こう\" /&gt;|\n",
    "|**`<br>`**||改行を挿入する。|"
   ]
  },
  {
   "cell_type": "markdown",
   "metadata": {},
   "source": [
    "##### 要素の属性\n",
    "要素は、いくつかの**属性**を持ちます。属性に値を指定することで、要素に情報を付加することができます。要素ごとに持っている属性が決まっています。例えば<span style=\"background-color: #F5F5F5; padding: 2px; margin: 2px; border-radius: 2px; border: 1px solid black;\">&lt;a&gt;</span>要素は、<span style=\"background-color: #F5F5F5; padding: 2px; margin: 2px; border-radius: 2px; border: 1px solid black;\">href</span>や<span style=\"background-color: #F5F5F5; padding: 2px; margin: 2px; border-radius: 2px; border: 1px solid black;\">target</span>という属性を持っています。一つの要素に複数の属性の値を指定することができます。属性は以下のように開始タグの中に書いて指定します。複数指定する場合に属性の順序は関係ありません。\n",
    "<p style=\"background-color: #E3F2FD; padding: 5px 10px 5px 10px; margin: 10px 2px 10px 0px; border-radius: 2px; border: 1px solid #64B5F6;\">&lt;要素名 属性=属性値 ...&gt;要素の内容&lt;/要素名&gt;</p>\n",
    "<span style=\"background-color: #F5F5F5; padding: 2px; margin: 2px; border-radius: 2px; border: 1px solid black;\">&lt;a&gt;</span>要素であれば、\n",
    "```html\n",
    "<a href=\"http://www.google.com\" target=\"_blank\">新しいタブでGoogleを開く</a>\n",
    "```\n",
    "のように書くことができます。"
   ]
  },
  {
   "cell_type": "markdown",
   "metadata": {},
   "source": [
    "##### 汎用属性\n",
    "ほとんどの要素で使うことができる**汎用属性**と呼ばれるものがあります。主な汎用属性には以下のようなものがあります。\n",
    "\n",
    "|属性|用途|\n",
    "|:--:|:--|\n",
    "|**id**|要素に一意な名前を指定する。スクリプトやスタイルシートから要素を特定するために使われる。|\n",
    "|**class**|複数の要素に共通のクラス名を指定する。スクリプトやスタイルシートから、同じclass属性の値をもつ要素を特定するために使われる。|\n",
    "|**style**|要素に直接スタイルシートを指定する。属性の値に指定することで、別の箇所で指定されたスタイルシートより優先的に適用される。|\n",
    "|**lang**|HTML文書の言語を指定する。英語であれば、**lang=\"en\"**と指定し、日本語であれば**lang=\"ja\"**と指定する。|"
   ]
  },
  {
   "cell_type": "markdown",
   "metadata": {},
   "source": [
    "### §1のチェックポイント"
   ]
  },
  {
   "cell_type": "markdown",
   "metadata": {},
   "source": [
    "HTMLとは何か。また、C言語などのプログラミング言語とはどう違うか。"
   ]
  },
  {
   "cell_type": "markdown",
   "metadata": {},
   "source": [
    "## §2. JavaScriptとは"
   ]
  },
  {
   "cell_type": "markdown",
   "metadata": {},
   "source": [
    "JavaScriptとは、主にWebページに **動的な演出** を加えることを目的としたプログラミング言語です。  \n",
    "HTMLがWebページの文書の構造を静的に記述するのに対して、JavaScriptは時刻やユーザーの操作に従い、HTMLの要素の内容を動的に変えることができます。  \n",
    "JavaScriptは様々なサイトで利用されています。<!--例えば本資料の冒頭で説明した[EveryTimeZone](http://everytimezone.com/)は、**ユーザーの画面クリック入力** によってページを更新することなく **動的に変更** し、世界中の時刻を取得して画面に表示します。実際に操作してみましょう。  -->\n",
    "このように、実際にユーザーが操作したり見ることが出来る部分を **フロントエンド** と呼び、ユーザーからは見えない内部的な処理の部分を **バックエンド** と呼びます。それぞれの役割を持つJSの事を、 **フロントエンドJS** 、 **バックエンドJS** と呼びます。\n",
    "  \n",
    "#### コラム : JavaとJavaScript\n",
    "プログラミング学習者の皆さんであれば、Javaと呼ばれるプログラミング言語があることはご存知でしょう。では、名前の似ているJavaとJavaScriptは何か関係があるのでしょうか？  \n",
    "答えは **全く関係ありません** 。  \n",
    "JavaScriptは、1990年代にNetscape社によってLiveScriptという名前で開発されました。当時Netscape社と業務提携していたSun Microsystems社の開発したJavaという言語が大きく流行ったため、JavaScriptという名前に変更されました。そのため、JavaとJavaScriptは名前は似ていても中身は全く別物です。"
   ]
  },
  {
   "cell_type": "markdown",
   "metadata": {},
   "source": [
    "### §2-1. フロントエンド"
   ]
  },
  {
   "cell_type": "markdown",
   "metadata": {},
   "source": [
    "この節では実際にhtmlにJavaScriptを書きながら、基本的なフロントエンドJSの動作を確認します。\n",
    "適当なディレクトリを作成し、その中にsample1-1.htmlというファイルを用意して、以下に習って簡単なhtmlを書いてみましょう。\n",
    "```\n",
    "# コマンド\n",
    "$ mkdir test-html\n",
    "$ cd test-html\n",
    "$ touch ex1-1.html\n",
    "$ emacs ex1-1.html\n",
    "```"
   ]
  },
  {
   "cell_type": "markdown",
   "metadata": {},
   "source": [
    "<p style=\"padding-left: 10px\"><em>sample2-1.html</em></p>\n",
    "```html\n",
    "<!DOCTYPE html>\n",
    "<html>\n",
    "<head>\n",
    "    <meta charset=\"UTF-8\">\n",
    "</head>\n",
    "<body>\n",
    "    <script>\n",
    "        console.log(\"コンソールに表示されるかな？\")\n",
    "    </script>\n",
    "</body>\n",
    "</html>\n",
    "```"
   ]
  },
  {
   "cell_type": "markdown",
   "metadata": {},
   "source": [
    "ここで、\n",
    "<span style=\"background-color: #F5F5F5; padding: 2px; margin: 2px; border-radius: 2px; border: 1px solid black;\">&lt;body&gt;</span>\n",
    "タグ内に注目してください。  \n",
    "<span style=\"background-color: #F5F5F5; padding: 2px; margin: 2px; border-radius: 2px; border: 1px solid black;\">&lt;script&gt;</span>\n",
    "タグに囲まれて\n",
    "**console.log(\"\")**\n",
    "という文が描かれていることに気付くと思います。この文はfirefox上のコンソールに情報を出力する時に使います。コンソールとは、firefoxに標準搭載されている開発者向けのツールで、知りたい情報を専用のスペースに表示することができます。起動するにはページが表示された状態で *Alt+Shift+k* キーを入力します。  \n",
    "  \n",
    "では実際にfirefoxで今作ったex1-1.htmlをfirefoxで開き、コンソールを表示させてみましょう。  \n",
    "console.log()で与えた文章がfirefox上に表示されれば成功です。  \n",
    "  \n",
    "以下にこのページ上で操作できる物を作りました。各自console.log(\"\")に与えるテキストを変更して出力を確かめてみましょう。  \n",
    "(テキストは英語のみ対応してます)"
   ]
  },
  {
   "cell_type": "code",
   "execution_count": 1,
   "metadata": {
    "collapsed": false
   },
   "outputs": [
    {
     "name": "stdout",
     "output_type": "stream",
     "text": [
      "hello!!!!!!!!\n"
     ]
    }
   ],
   "source": [
    "console.log(\"hello!!!!!!!!\")"
   ]
  },
  {
   "cell_type": "markdown",
   "metadata": {},
   "source": [
    "もちろんコンソール出力以外にも、画面上にアラート画面として文字を出力する方法もあります。  \n",
    "上で作成したhtmlファイルの内容を以下のコードに変更してみましょう。"
   ]
  },
  {
   "cell_type": "markdown",
   "metadata": {},
   "source": [
    "<p style=\"padding-left: 10px\"><em>sample2-2.html</em></p>\n",
    "```html\n",
    "<!DOCTYPE html>\n",
    "<html>\n",
    "<head>\n",
    "    <meta charset=\"UTF-8\">\n",
    "</head>\n",
    "<body>\n",
    "    <script>\n",
    "        alert(\"アラート\")\n",
    "    </script>\n",
    "</body>\n",
    "</html>\n",
    "```"
   ]
  },
  {
   "cell_type": "markdown",
   "metadata": {},
   "source": [
    "Firefoxでhtmlファイルを開いて、アラート画面が表示されたら成功です。\n",
    "\n",
    "これらの機能は実際にhtml上にJavaScriptを書いていく上で、変数の値や望む出力が得られているかなどのデバック作業に使うことが出来ます。  \n",
    "ここで重要なのが、アラートとコンソールの機能の違いです。\n",
    "htmlを以下のように変更して実際にその動作を確かめてみましょう。"
   ]
  },
  {
   "cell_type": "markdown",
   "metadata": {},
   "source": [
    "### §2-2. バックエンド (Node.js)"
   ]
  },
  {
   "cell_type": "code",
   "execution_count": null,
   "metadata": {
    "collapsed": true
   },
   "outputs": [],
   "source": []
  },
  {
   "cell_type": "markdown",
   "metadata": {},
   "source": [
    "### §2-3.演習"
   ]
  },
  {
   "cell_type": "markdown",
   "metadata": {},
   "source": [
    "以下の演習問題を解き、理解を深めましょう。問題の下部にあるコンソールを利用しても構いません。"
   ]
  },
  {
   "cell_type": "markdown",
   "metadata": {},
   "source": [
    "* . コンソール上に\"Hello World.\"と出力するコードを書け。\n",
    "* . 任意の文字を持つalert画面を表示するコードを書け。\n",
    "* . Node.jsを使い、1から10までの和を計算しコンソール上に出力するコードを書け。"
   ]
  },
  {
   "cell_type": "markdown",
   "metadata": {},
   "source": [
    "### §2-4. チェックリスト"
   ]
  },
  {
   "cell_type": "markdown",
   "metadata": {},
   "source": [
    "* JavaScriptはどういった目的で使われるか\n",
    "* フロントエンドとは？\n",
    "* バックエンドとは？"
   ]
  },
  {
   "cell_type": "markdown",
   "metadata": {},
   "source": [
    "## §3. DOMを扱おう"
   ]
  },
  {
   "cell_type": "markdown",
   "metadata": {},
   "source": [
    "### §3-1. DOMとは"
   ]
  },
  {
   "cell_type": "markdown",
   "metadata": {},
   "source": [
    "**DOM**(Document Object Model)とは、各要素に動的にアクセスする仕組み(API)のことです。Web上で実行できるJavaScriptなど言語からDOMを扱い、属性の値や要素の内容を取得・変更することが出来ます。"
   ]
  },
  {
   "cell_type": "markdown",
   "metadata": {},
   "source": [
    "HTMLは、以下のようなツリー構造をなしています。これを**DOMツリー**といいます。DOMツリーにある<span style=\"background-color: #F5F5F5; padding: 2px; margin: 2px; border-radius: 2px; border: 1px solid black;\">&lt;html&gt;</span>要素やテキストなどの各々は、すべて**ノード**と呼ばれます。ノードは要素より広い概念で、コメントや段落中のテキストもノードと呼ばれます。ノードには親子関係があり、<span style=\"background-color: #F5F5F5; padding: 2px; margin: 2px; border-radius: 2px; border: 1px solid black;\">&lt;body&gt;</span>は、<span style=\"background-color: #F5F5F5; padding: 2px; margin: 2px; border-radius: 2px; border: 1px solid black;\">&lt;p&gt;</span>の親ノードであり、反対に<span style=\"background-color: #F5F5F5; padding: 2px; margin: 2px; border-radius: 2px; border: 1px solid black;\">&lt;p&gt;</span>は<span style=\"background-color: #F5F5F5; padding: 2px; margin: 2px; border-radius: 2px; border: 1px solid black;\">&lt;body&gt;</span>の子ノードです。\n",
    "<pre>\n",
    "&lt;html&gt;\n",
    "├── &lt;head&gt;\n",
    "│   ├── &lt;meta&gt;\n",
    "│   └── &lt;title&gt;\n",
    "└── &lt;body&gt;\n",
    "    └── &lt;p&gt;\n",
    "        └── テキスト\n",
    "</pre>"
   ]
  },
  {
   "cell_type": "markdown",
   "metadata": {},
   "source": [
    "### §3-2. DOMを扱う例"
   ]
  },
  {
   "cell_type": "markdown",
   "metadata": {},
   "source": [
    "JavaScriptからDOMを扱って、動的に文字列を表示させてみましょう。"
   ]
  },
  {
   "cell_type": "markdown",
   "metadata": {},
   "source": [
    "<p style=\"padding-left: 10px\"><em>sample3-1.html</em></p>\n",
    "```html\n",
    "<!DOCTYPE html>\n",
    "<html lang=\"en\">\n",
    "\n",
    "<head>\n",
    "    <meta charset=\"UTF-8\">\n",
    "    <title>Access DOM Sample</title>\n",
    "</head>\n",
    "\n",
    "<body>\n",
    "    <p id=\"message\"></p>\n",
    "    <script type=\"text/javascript\" src=\"./sample3-1.js\"></script>\n",
    "</body>\n",
    "\n",
    "</html>\n",
    "```"
   ]
  },
  {
   "cell_type": "markdown",
   "metadata": {},
   "source": [
    "<p style=\"padding-left: 10px\"><em>sample3-1.js</em></p>\n",
    "```javascript\n",
    "var paragraph = document.getElementById(\"message\");\n",
    "var content = document.createTextNode(\"Hello, world\");\n",
    "paragraph.appendChild(content);\n",
    "```"
   ]
  },
  {
   "cell_type": "markdown",
   "metadata": {},
   "source": [
    "*sample3-1.js* の1行目で、<span style=\"background-color: #F5F5F5; padding: 2px; margin: 2px; border-radius: 2px; border: 1px solid black;\">document.getElementById()</span>を用いています。これは指定したid属性の値をもつノードを取得するという意味です。2行目で、<span style=\"background-color: #F5F5F5; padding: 2px; margin: 2px; border-radius: 2px; border: 1px solid black;\">document.createTextNode()</span>を用いています。これは指定した文字列をもとにテキストノードを生成するという意味です。3行目で<span style=\"background-color: #F5F5F5; padding: 2px; margin: 2px; border-radius: 2px; border: 1px solid black;\">appendChild()</span>を用いています。これは、指定したノードを要素ノードの子ノードとして加えるという意味です。"
   ]
  },
  {
   "cell_type": "markdown",
   "metadata": {},
   "source": [
    "複数のリストを表示してみましょう。*sample3-1.html* をコピーして、<span style=\"background-color: #F5F5F5; padding: 2px; margin: 2px; border-radius: 2px; border: 1px solid black;\">&lt;body&gt;</span>の中を以下の *sample3-2.html (抜粋)* のように書き換えて下さい。"
   ]
  },
  {
   "cell_type": "markdown",
   "metadata": {},
   "source": [
    "<p style=\"padding-left: 10px\"><em>sample3-2.html (抜粋)</em></p>\n",
    "```html\n",
    "<ul id=\"tweets\"></ul>\n",
    "<script type=\"text/javascript\" src=\"./sample3-2.js\"></script>\n",
    "```"
   ]
  },
  {
   "cell_type": "markdown",
   "metadata": {},
   "source": [
    "<p style=\"padding-left: 10px\"><em>sample3-2.js</em></p>\n",
    "```javascript\n",
    "function createTweetElement(text) {\n",
    "    var item = document.createElement(\"li\");\n",
    "    var content = document.createTextNode(text);\n",
    "    item.appendChild(content);\n",
    "    return item;\n",
    "}\n",
    "\n",
    "var messages = [\"Hello.\", \"How are you?\"];\n",
    "\n",
    "var tweetsList = document.getElementById(\"tweets\");\n",
    "messages.map(function (tweet) {\n",
    "    return createTweetElement(tweet);\n",
    "}).forEach(function (item) {\n",
    "    tweetsList.appendChild(item);\n",
    "});\n",
    "```"
   ]
  },
  {
   "cell_type": "markdown",
   "metadata": {},
   "source": [
    "*sample3-2.js* の2行目で、<span style=\"background-color: #F5F5F5; padding: 2px; margin: 2px; border-radius: 2px; border: 1px solid black;\">document.createElement()</span>を用いています。これは指定した要素ノードを生成する意味です。これを用いて、<span style=\"background-color: #F5F5F5; padding: 2px; margin: 2px; border-radius: 2px; border: 1px solid black;\">&lt;li&gt;</span>というノードを生成しています。\n",
    "以下のように表示されれば問題ありません。"
   ]
  },
  {
   "cell_type": "markdown",
   "metadata": {},
   "source": [
    "![ex3-2.htmlをブラウザで表示した結果](https://github.com/motxx/botter-text/blob/master/images/ex3-2-res.png?raw=true)"
   ]
  },
  {
   "cell_type": "markdown",
   "metadata": {},
   "source": [
    "次に、複数の<span style=\"background-color: #F5F5F5; padding: 2px; margin: 2px; border-radius: 2px; border: 1px solid black;\">&lt;a&gt;</span>要素を一括で新しいタブで開くように設定するコードを書いてみましょう。新しいタブで開くには、<span style=\"background-color: #F5F5F5; padding: 2px; margin: 2px; border-radius: 2px; border: 1px solid black;\">&lt;a&gt;</span>要素の属性を<span style=\"background-color: #F5F5F5; padding: 2px; margin: 2px; border-radius: 2px; border: 1px solid black;\">target=\"_blank\"</span>に指定しますが、これをJavaScriptで書いてみましょう。"
   ]
  },
  {
   "cell_type": "markdown",
   "metadata": {},
   "source": [
    "<p style=\"padding-left: 10px\"><em>sample3-3.html (抜粋)</em></p>\n",
    "```html\n",
    "<ul>\n",
    "    <li>Open <a href=\"http://www.google.com\">google.com</a></li>\n",
    "    <li>Open <a href=\"http://www.google.com\" class=\"openNewTab\">google.com with new tab.</a></li>\n",
    "    <li>Open <a href=\"http://www.yahoo.com\" class=\"openNewTab\">yahoo.com with new tab.</a></li>\n",
    "</ul>\n",
    "<script type=\"text/javascript\" src=\"./sample3-3.js\"></script>\n",
    "```"
   ]
  },
  {
   "cell_type": "markdown",
   "metadata": {},
   "source": [
    "<p style=\"padding-left: 10px\"><em>sample3-3.js</em></p>\n",
    "```javascript\n",
    "var anchors = document.getElementsByClassName(\"openNewTab\");\n",
    "[].forEach.call(anchors, function (anchor){\n",
    "  anchor.setAttribute('target', '_blank');\n",
    "});\n",
    "```"
   ]
  },
  {
   "cell_type": "markdown",
   "metadata": {},
   "source": [
    "*sample3-3.js* の1行目で、<span style=\"background-color: #F5F5F5; padding: 2px; margin: 2px; border-radius: 2px; border: 1px solid black;\">document.getElementsByClassName()</span>を用いています。これはclass属性に指定された値を持つノードのリストを取得します。2行目で、<span style=\"background-color: #F5F5F5; padding: 2px; margin: 2px; border-radius: 2px; border: 1px solid black;\">[].forEach.call(ノードのリスト, コールバック関数)</span>を用いています。これは、ノードのリストの各ノードについてコールバック関数を適用するときに用います。`ノードのリスト.forEach(コールバック関数) という使い方はできない`ことに注意して下さい。3行目では、<span style=\"background-color: #F5F5F5; padding: 2px; margin: 2px; border-radius: 2px; border: 1px solid black;\">setAttribute()</span>を用いています。これは、要素ノードの属性に値を指定するときに用います。"
   ]
  },
  {
   "cell_type": "markdown",
   "metadata": {},
   "source": [
    "### §3のチェックポイント"
   ]
  },
  {
   "cell_type": "markdown",
   "metadata": {},
   "source": [
    "スクリプトからDOMを扱うことには、どのような利点があるか。"
   ]
  },
  {
   "cell_type": "markdown",
   "metadata": {},
   "source": [
    "### 演習3"
   ]
  },
  {
   "cell_type": "markdown",
   "metadata": {},
   "source": [
    "<p style=\"background-color: #ffebee; padding: 5px 10px 5px 10px; margin: 10px 2px 10px 0px; border-radius: 2px; border: 1px solid #ffcdd2;\">本演習課題では、HTMLファイルとJSファイルの2種類を作成する。両方のファイルが作成できたら、実行例と同様の結果が表示されているかを確認し、Firefoxの開発ツールを用いてエラーが起きていないかを確認せよ。</p>"
   ]
  },
  {
   "cell_type": "markdown",
   "metadata": {},
   "source": [
    "HTMLは以下のテンプレートを参考にせよ。"
   ]
  },
  {
   "cell_type": "markdown",
   "metadata": {},
   "source": [
    "```html\n",
    "<!DOCTYPE html>\n",
    "<html lang=\"ja\">\n",
    "\n",
    "<head>\n",
    "    <meta charset=\"UTF-8\">\n",
    "    <title>演習課題</title>\n",
    "</head>\n",
    "\n",
    "<body>\n",
    "    <!-- 必要であれば、ここにHTMLを記述する -->\n",
    "    <script type=\"text/javascript\" src=\"./s12xxxxx-ex1-1.js\"></script>\n",
    "</body>\n",
    "\n",
    "</html>\n",
    "```"
   ]
  },
  {
   "cell_type": "markdown",
   "metadata": {},
   "source": [
    "#### 演習3-1.     \n",
    "配列[1,4,5,7,8,9]の和を取り、その結果を表示せよ。\n",
    "\n",
    "■HTMLファイル   \n",
    "ファイル名：*学籍番号-ex3-1.html*    \n",
    "仕様：&lt;p&gt; 要素を1つ配置し、属性をid=\"calc_result\" とする。    \n",
    "\n",
    "■JSファイル    \n",
    "ファイル名：*学籍番号-ex3-1.js*    \n",
    "仕様：要素配列 numbers = [1,4,5,7,8,9] を宣言し、reduce()関数を用いて、numbersの和を取った値を計算する。その値を、\"Result value is (計算結果)\" という書式で id=\"calc_result\" を持つ &lt;p&gt; 要素に表示する。\n",
    "\n",
    "##### ヒント\n",
    "以下のサイトに、reduce()関数についての説明と例が記載されている。\n",
    "https://developer.mozilla.org/ja/docs/Web/JavaScript/Reference/Global_Objects/Array/reduce"
   ]
  },
  {
   "cell_type": "markdown",
   "metadata": {},
   "source": [
    "実行例"
   ]
  },
  {
   "cell_type": "markdown",
   "metadata": {},
   "source": [
    "![演習3-1の実行例](https://github.com/motxx/botter-text/blob/master/images/ex-sample-output-3-1.png?raw=true 演習3-1の実行例)"
   ]
  },
  {
   "cell_type": "markdown",
   "metadata": {},
   "source": [
    "#### 演習3-2.     \n",
    "次のような、会話の履歴がある。\n",
    ">「あなたは安藤咲さんですか。」    \n",
    "「はい。咲と呼んでください。」    \n",
    "「咲さんは柔道部員ですか。」    \n",
    "「はい、そうです。」\n",
    "\n",
    "この会話の履歴を、最新の時刻に行われた発言を一番上にして表示させたい。会話の履歴をこの順で配列に入れ、後ろから順にリストとして表示せよ。\n",
    "\n",
    "■HTMLファイル   \n",
    "ファイル名：*学籍番号-ex3-2.html*    \n",
    "仕様：&lt;ul&gt; 要素を1つ配置し、属性をid=\"chats\" とする。    \n",
    "\n",
    "■JSファイル    \n",
    "ファイル名：*学籍番号-ex3-2.js*    \n",
    "仕様：配列 chatMessages=[\"あなたは安藤咲さんですか。\",\"はい。咲と呼んでください。\",\"咲さんは柔道部員ですか。\",\"はい、そうです。\"] を宣言する。これを後ろから順に id=\"chats\" をもつ &lt;ul&gt; 要素の中にリストとして表示する。\n",
    "\n",
    "##### ヒント\n",
    "- 配列を反転する関数は何か。\n",
    "- 各要素に繰り返しコールバック関数を適用するための関数は何か。\n",
    "- 配列を各要素ループする関数は関数は何か。"
   ]
  },
  {
   "cell_type": "markdown",
   "metadata": {},
   "source": [
    "実行例"
   ]
  },
  {
   "cell_type": "markdown",
   "metadata": {},
   "source": [
    "![演習3-2の実行例](https://github.com/motxx/botter-text/blob/master/images/ex-sample-output-3-2.png?raw=true 演習3-2の実行例)"
   ]
  },
  {
   "cell_type": "markdown",
   "metadata": {},
   "source": [
    "## §4. localStorageを使おう"
   ]
  },
  {
   "cell_type": "markdown",
   "metadata": {},
   "source": [
    "localStorageとは、ブラウザ上にユーザーが持つデータを保持しておく事が出来る仕組みの事です。Cookieと異なってくる点は、http通信が発生せず、あくまでもユーザーのローカルにあるブラウザで、JavaScriptから参照され動作するという点です。Webサービスを設計するにあたり、どうしてもユーザーが入力した情報をweb上で保持しておきたい事があります。そんな時にlocalStorageを用いる事で、サーバーを用いずにユーザーそれぞれのローカル環境にデータを保持しておく事が出来ます。"
   ]
  },
  {
   "cell_type": "markdown",
   "metadata": {},
   "source": [
    "##### localStorageに値を保存する"
   ]
  },
  {
   "cell_type": "markdown",
   "metadata": {},
   "source": [
    "```javascript\n",
    "// 以下の2行は同義\n",
    "localStorage.setItem(\"count\", 1234);\n",
    "localStorage.count = 1234;\n",
    "```"
   ]
  },
  {
   "cell_type": "markdown",
   "metadata": {},
   "source": [
    "##### localStorageから値を取得する"
   ]
  },
  {
   "cell_type": "markdown",
   "metadata": {},
   "source": [
    "```javascript\n",
    "// 以下の2行は同義\n",
    "var value = localStorage.getItem(\"count\", 1234);\n",
    "var value = localStorage.count;\n",
    "```"
   ]
  },
  {
   "cell_type": "markdown",
   "metadata": {},
   "source": [
    "### §4のチェックポイント"
   ]
  },
  {
   "cell_type": "markdown",
   "metadata": {},
   "source": [
    "localStorageはどのような場合に使うのが適しているか。また、どのような場合は使うべきではないか。"
   ]
  },
  {
   "cell_type": "markdown",
   "metadata": {},
   "source": [
    "### 演習4"
   ]
  },
  {
   "cell_type": "markdown",
   "metadata": {},
   "source": [
    "#### 演習4-1"
   ]
  },
  {
   "cell_type": "markdown",
   "metadata": {},
   "source": [
    "localStorageを使用して、ブラウザを開いた回数表示するカウンタを作れ。初期値は1で、ブラウザを更新するたびに1ずつ増えるものとする。"
   ]
  },
  {
   "cell_type": "markdown",
   "metadata": {},
   "source": [
    "実行例"
   ]
  },
  {
   "cell_type": "markdown",
   "metadata": {},
   "source": [
    "（画像はあとで）"
   ]
  },
  {
   "cell_type": "markdown",
   "metadata": {},
   "source": [
    "## §5. EventListenerを使おう"
   ]
  },
  {
   "cell_type": "markdown",
   "metadata": {},
   "source": [
    "マウスの操作、キーボードの操作、Webページが読み込まれたときなど、様々な動作のタイミングを**イベント**といいます。イベントが発生したとき、実行したい処理があるとします。例えば、画面上でマウスをクリックしたらalert()を表示させたいとします。そのようなときは以下のように記述します。"
   ]
  },
  {
   "cell_type": "markdown",
   "metadata": {},
   "source": [
    "```javascript\n",
    "document.addEventListener(\"click\", function() {\n",
    "    alert(\"クリックされました\");\n",
    "});\n",
    "```"
   ]
  },
  {
   "cell_type": "markdown",
   "metadata": {},
   "source": [
    "イベントを発行させるものを**EventTarget**といい、発行されたイベントを受けるものを**EventListener**といいます。EventListenerにはイベントが発行された時に実行したい関数を与えます。"
   ]
  },
  {
   "cell_type": "markdown",
   "metadata": {},
   "source": [
    "<p style=\"background-color: #E3F2FD; padding: 5px 10px 5px 10px; margin: 10px 2px 10px 0px; border-radius: 2px; border: 1px solid #64B5F6;\">EventTarget.addEventListener(イベントの名前, EventListenerにあたるコールバック関数)</p>"
   ]
  },
  {
   "cell_type": "markdown",
   "metadata": {},
   "source": [
    "### 演習5"
   ]
  },
  {
   "cell_type": "markdown",
   "metadata": {},
   "source": [
    "EventListenerを利用して、入力した文字列をリストに表示していくコードを書け。"
   ]
  },
  {
   "cell_type": "markdown",
   "metadata": {},
   "source": [
    "（詳しい仕様はあと）"
   ]
  },
  {
   "cell_type": "markdown",
   "metadata": {},
   "source": [
    "## §6. JSONを使おう"
   ]
  },
  {
   "cell_type": "markdown",
   "metadata": {},
   "source": [
    "### §6-1. JSONとは"
   ]
  },
  {
   "cell_type": "markdown",
   "metadata": {},
   "source": [
    "JSON (JavaScript Object Notation) とは、JavaScriptのオブジェクトの表記をそのまま応用したデータ構文のことです。JSONの形式になっていれば、ソースコードに貼り付けるだけでJavaScript内で利用することが出来るようになります。"
   ]
  },
  {
   "cell_type": "markdown",
   "metadata": {},
   "source": [
    "##### JSONオブジェクトの書き方\n",
    "\n",
    "ルール：全体を中括弧 { } で囲み、 キー と 値 をコロン : で区切って表記したペアをカンマ区切りで列挙。"
   ]
  },
  {
   "cell_type": "markdown",
   "metadata": {},
   "source": [
    "```json\n",
    "{\"firstName\":\"John\", \"lastName\":\"Doe\"}\n",
    "```"
   ]
  },
  {
   "cell_type": "markdown",
   "metadata": {},
   "source": [
    "```json\n",
    "{\"1st_period\":\"LS2\", \"2nd_period\":\"csI\", \"3rd_period\":\"csI_ex\", \"4th_period\":\"literacy\"}\n",
    "```"
   ]
  },
  {
   "cell_type": "markdown",
   "metadata": {},
   "source": [
    "##### JSON配列\n",
    "\n",
    "ルール：全体を角括弧 [ ] で囲み、 値 をカンマ区切りで列挙。"
   ]
  },
  {
   "cell_type": "markdown",
   "metadata": {},
   "source": [
    "```json\n",
    "[\n",
    "  1,\n",
    "  \"string\",\n",
    "  true\n",
    "]\n",
    "```"
   ]
  },
  {
   "cell_type": "markdown",
   "metadata": {},
   "source": [
    "##### JSONオブジェクトとJSON配列がネストした例"
   ]
  },
  {
   "cell_type": "markdown",
   "metadata": {},
   "source": [
    "```json\n",
    "[\n",
    "  {\"firstName\":\"John\", \"lastName\":\"Doe\"},\n",
    "  {\"1st_period\":\"LS2\", \"2nd_period\":\"csI\", \"3rd_period\":\"csI_ex\", \"4th_period\":\"literacy\"}\n",
    "]\n",
    "```"
   ]
  },
  {
   "cell_type": "markdown",
   "metadata": {},
   "source": [
    "```json\n",
    "{\n",
    "    [\"abc\", \"def\"],\n",
    "    [123, true]\n",
    "}\n",
    "```"
   ]
  },
  {
   "cell_type": "markdown",
   "metadata": {},
   "source": [
    "### §6-2. JSONオブジェクトを使う"
   ]
  },
  {
   "cell_type": "markdown",
   "metadata": {},
   "source": [
    "##### JSON文字列から値を読み取る"
   ]
  },
  {
   "cell_type": "code",
   "execution_count": 55,
   "metadata": {
    "collapsed": false
   },
   "outputs": [
    {
     "name": "stdout",
     "output_type": "stream",
     "text": [
      "object\n"
     ]
    }
   ],
   "source": [
    "var fullName = JSON.parse('{\"firstName\":\"John\", \"lastName\":\"Doe\"}');\n",
    "console.log(typeof fullName);"
   ]
  },
  {
   "cell_type": "code",
   "execution_count": 56,
   "metadata": {
    "collapsed": false
   },
   "outputs": [
    {
     "name": "stdout",
     "output_type": "stream",
     "text": [
      "number\n"
     ]
    }
   ],
   "source": [
    "var age = JSON.parse(123);\n",
    "console.log(typeof age);"
   ]
  },
  {
   "cell_type": "markdown",
   "metadata": {},
   "source": [
    "##### 値をJSON文字列に変換する"
   ]
  },
  {
   "cell_type": "code",
   "execution_count": 57,
   "metadata": {
    "collapsed": false
   },
   "outputs": [
    {
     "name": "stdout",
     "output_type": "stream",
     "text": [
      "string\n"
     ]
    }
   ],
   "source": [
    "var fullNameJSONString = JSON.stringify({\"firstName\":\"John\", \"lastName\":\"Doe\"});\n",
    "console.log(typeof fullNameJSONString);"
   ]
  },
  {
   "cell_type": "markdown",
   "metadata": {},
   "source": [
    "#2 コラム\n",
    "パース(parse)というのは文字列から何らかの決まった構文を読み取ることをいいます。JSONの構文を読み取るので、JSON.parse() となります。また、-ifyは名詞を動詞にする接尾辞なので、JSON.stringify() はJSON文字列にすると読むことができます。"
   ]
  },
  {
   "cell_type": "markdown",
   "metadata": {},
   "source": [
    "### §6のチェックポイント"
   ]
  },
  {
   "cell_type": "markdown",
   "metadata": {},
   "source": [
    "データをJSON文字列にしておくのが都合良い例をあげよ。"
   ]
  },
  {
   "cell_type": "markdown",
   "metadata": {},
   "source": [
    "### 演習6"
   ]
  },
  {
   "cell_type": "markdown",
   "metadata": {},
   "source": [
    "#### 演習6-1."
   ]
  },
  {
   "cell_type": "markdown",
   "metadata": {},
   "source": [
    "まず、以下のJSON文字列をパースし、オブジェクトに変換するコードを記述せよ。次に、以下の操作を試せ。    \n",
    "- firstNameとlastNameを空白区切りで表示する。\n",
    "- \"2nd_period\"の科目を表示する。\n",
    "- \"3rd_period\"の科目を表示する。\n",
    "- 取得したオブジェクトのキーが\"5th_period\"の値を表示する。"
   ]
  },
  {
   "cell_type": "markdown",
   "metadata": {},
   "source": [
    "```javascript\n",
    "var jsonString = '[{\"firstName\":\"John\", \"lastName\":\"Doe\"},{\"1st_period\":\"LS2\", \"2nd_period\":\"csI\", \"3rd_period\":\"csI_ex\", \"4th_period\":\"literacy\"}]';\n",
    "```"
   ]
  },
  {
   "cell_type": "code",
   "execution_count": 61,
   "metadata": {
    "collapsed": false
   },
   "outputs": [
    {
     "name": "stdout",
     "output_type": "stream",
     "text": [
      "John Doe\n",
      "csI\n",
      "null\n",
      "undefined\n"
     ]
    }
   ],
   "source": [
    "var jsonString = '[{\"firstName\":\"John\", \"lastName\":\"Doe\"},{\"1st_period\":\"LS2\", \"2nd_period\":\"csI\", \"3rd_period\":null, \"4th_period\":\"literacy\"}]';\n",
    "var studentInfo = JSON.parse(jsonString);\n",
    "var fullNameObject = studentInfo[0];\n",
    "var timeTableObject = studentInfo[1];\n",
    "\n",
    "console.log(fullNameObject[\"firstName\"] + \" \" + fullNameObject[\"lastName\"]);\n",
    "console.log(timeTableObject[\"2nd_period\"]);\n",
    "console.log(timeTableObject[\"3rd_period\"]);\n",
    "console.log(timeTableObject[\"5th_period\"]);"
   ]
  },
  {
   "cell_type": "markdown",
   "metadata": {},
   "source": [
    "## §7. Immutable.js を使おう"
   ]
  },
  {
   "cell_type": "markdown",
   "metadata": {},
   "source": [
    "### §1-7-1. Immutable.js とは"
   ]
  },
  {
   "cell_type": "markdown",
   "metadata": {},
   "source": [
    "Immutable.jsとは、facebook社の制作したJavaScriptライブラリの１つです。汎用的なデータ構造をimmutableにして提供してくれます。ListやMapのデータ構造を提供してくれます。"
   ]
  },
  {
   "cell_type": "markdown",
   "metadata": {},
   "source": [
    "(immutableの説明のレベルが、前回の資料では多すぎる。どの程度書くべきか不明)"
   ]
  },
  {
   "cell_type": "markdown",
   "metadata": {},
   "source": [
    "#### 例7-1."
   ]
  },
  {
   "cell_type": "markdown",
   "metadata": {},
   "source": [
    "以下のJSON文字列を読み取って、Immutable.Listとして表示してみましょう。"
   ]
  },
  {
   "cell_type": "markdown",
   "metadata": {},
   "source": [
    "```json\n",
    "'[\"Immutable data structures including:\", \" List\", \"Stack\", \"Map\", \"OrderedMap\", \"Set\", \"OrderedSet\"]'\n",
    "```"
   ]
  },
  {
   "cell_type": "code",
   "execution_count": 91,
   "metadata": {
    "collapsed": false
   },
   "outputs": [
    {
     "data": {
      "text/plain": [
       "[List] [\"Immutable data structures including:\",\" List\",\"Stack\",\"Map\",\"OrderedMap\",\"Set\",\"OrderedSet\"]"
      ]
     },
     "execution_count": 91,
     "metadata": {},
     "output_type": "execute_result"
    }
   ],
   "source": [
    "var jsonString = '[\"Immutable data structures including:\", \" List\", \"Stack\", \"Map\", \"OrderedMap\", \"Set\", \"OrderedSet\"]';\n",
    "var array = JSON.parse(jsonString);\n",
    "Immutable.List(array);"
   ]
  },
  {
   "cell_type": "markdown",
   "metadata": {},
   "source": [
    "#### 例7-2."
   ]
  },
  {
   "cell_type": "markdown",
   "metadata": {},
   "source": [
    "例7-1で作成したImmutable.Listを\"varlist\"と名付け、varで宣言し、その内容を表示せよ。続けて、varlist.push(\"does not change\");を実行し、再びvarlistの値を表示せよ。"
   ]
  },
  {
   "cell_type": "code",
   "execution_count": 90,
   "metadata": {
    "collapsed": false
   },
   "outputs": [
    {
     "name": "stdout",
     "output_type": "stream",
     "text": [
      "[List] [\"Immutable data structures including:\",\" List\",\"Stack\",\"Map\",\"OrderedMap\",\"Set\",\"OrderedSet\"]\n",
      "[List] [\"Immutable data structures including:\",\" List\",\"Stack\",\"Map\",\"OrderedMap\",\"Set\",\"OrderedSet\"]\n"
     ]
    }
   ],
   "source": [
    "var varlist = Immutable.List(array);\n",
    "console.log(varlist);\n",
    "listval.push(\"does not change\");\n",
    "console.log(varlist);"
   ]
  },
  {
   "cell_type": "markdown",
   "metadata": {},
   "source": [
    "#### 例7-3."
   ]
  },
  {
   "cell_type": "markdown",
   "metadata": {},
   "source": [
    "演習7-1で作成したImmutable.Listを\"list\"と名付け、constで宣言せよ。新しい要素としてlistに以下の文字列を加えたImmutable.Listを\"list1\"と名付け、constで宣言し、値を表示せよ。\n",
    "```javascript\n",
    "\"Record\"\n",
    "```"
   ]
  },
  {
   "cell_type": "code",
   "execution_count": 88,
   "metadata": {
    "collapsed": false
   },
   "outputs": [
    {
     "data": {
      "text/plain": [
       "[List] [\"Immutable data structures including:\",\" List\",\"Stack\",\"Map\",\"OrderedMap\",\"Set\",\"OrderedSet\",\"Record\"]"
      ]
     },
     "execution_count": 88,
     "metadata": {},
     "output_type": "execute_result"
    }
   ],
   "source": [
    "const list = Immutable.List(array);\n",
    "const list1 = list.push(\"Record\");\n",
    "list1;"
   ]
  },
  {
   "cell_type": "markdown",
   "metadata": {},
   "source": [
    "### §7のチェックポイント"
   ]
  },
  {
   "cell_type": "markdown",
   "metadata": {},
   "source": []
  },
  {
   "cell_type": "markdown",
   "metadata": {},
   "source": [
    "### 演習7"
   ]
  },
  {
   "cell_type": "markdown",
   "metadata": {},
   "source": [
    "#### 演習7-1."
   ]
  },
  {
   "cell_type": "markdown",
   "metadata": {},
   "source": [
    "#### 演習7-2."
   ]
  },
  {
   "cell_type": "markdown",
   "metadata": {},
   "source": [
    "## §8. Botterを作ろう"
   ]
  },
  {
   "cell_type": "markdown",
   "metadata": {},
   "source": [
    "<p style=\"background-color: #FCE4EC; padding: 5px 10px 5px 10px; margin: 10px 2px 10px 0px; border-radius: 2px; border: 1px solid #F8BBD0;\">このセクションは、全体が演習課題となっています。今までで使った知識を動員して、一人用ツイッター(Botter)を作ってみましょう。</p>"
   ]
  },
  {
   "cell_type": "markdown",
   "metadata": {},
   "source": [
    "### Botterの仕様"
   ]
  },
  {
   "cell_type": "markdown",
   "metadata": {},
   "source": [
    "### 完成例"
   ]
  },
  {
   "cell_type": "code",
   "execution_count": null,
   "metadata": {
    "collapsed": true
   },
   "outputs": [],
   "source": []
  }
 ],
 "metadata": {
  "kernelspec": {
   "display_name": "NodeJS",
   "language": "javascript",
   "name": "nodejs"
  },
  "language_info": {
   "codemirror_mode": "javascript",
   "file_extension": "js",
   "mimetype": "text/javascript",
   "name": "nodejs",
   "pygments_lexer": "javascript",
   "version": "0.10"
  }
 },
 "nbformat": 4,
 "nbformat_minor": 0
}
