{
 "cells": [
  {
   "cell_type": "markdown",
   "metadata": {},
   "source": [
    "# Botter-book"
   ]
  },
  {
   "cell_type": "markdown",
   "metadata": {
    "collapsed": false
   },
   "source": [
    "## §1. HTMLとは何か"
   ]
  },
  {
   "cell_type": "markdown",
   "metadata": {
    "collapsed": false
   },
   "source": [
    "### §1-1. HTMLとは"
   ]
  },
  {
   "cell_type": "markdown",
   "metadata": {
    "collapsed": false
   },
   "source": [
    "私たちが、普段見ているWebページは、HTML(Hyper Text Markup Language)という言語によって書かれています。\n",
    "図1-1のように、Googleのトップページで右クリックをし、「ソースを表示」を選択すると、長い文章が表示されます。この文章はHTMLで書かれています。\n",
    "<figure style=\"margin-top: 20px; margin-bottom: 20px\">\n",
    "<img src=\"./pic1-1.png\" alt=\"図1-1 Google上でソースを表示した結果。あらゆるWebページはHTMLで書かれている\" style=\"width:auto;height:auto;max-width:600px;max-height:300px;\">\n",
    "<figcaption style=\"text-align: center\">図1-1 Google上でソースを表示した結果。あらゆるWebページはHTMLで書かれている</figcaption>\n",
    "</figure>\n",
    "\n",
    "HTMLは主にWeb上で使われている**マークアップ言語**です。マークアップ言語とは、視覚表現や文書構造などを記述するための形式言語です。  \n",
    "1990年代に、HTMLは、科学的な分野で**文書(document)**を論理的に記述するための言語として開発されました。文書を論理的に記述するためには、適切な見出し、段落、表、リストなどが必要です。HTMLはこれらの要素をサポートしています。HTMLを使うことで、見出し、段落などを表示し、それがどんなデザインで、どんな配置をしているかを決めて、文書にすることができます。(図1-2)\n",
    "<figure style=\"margin-top: 20px; margin-bottom: 20px\">\n",
    "<img src=\"./pic1-2.png\" alt=\"HTML文書をブラウザが読み取って表示する\" style=\"width:auto;height:auto;max-width:400px;max-height:200px;\">\n",
    "<figcaption style=\"text-align: center\">図1-2 HTML文書をブラウザが読み取って表示する</figcaption>\n",
    "</figure>\n",
    "\n",
    "より一般的に多くの人にHTML文書が書かれるようになり、それに伴いHTMLの仕様と、それを表示するブラウザも度々更新されてきました。   \n",
    "現在では、HTMLを用いてWebアプリケーションやスマートフォン向けアプリなども作られるようになりました。(図1-3, 図1-4)    \n",
    "現在のHTMLの仕様は、現在は**HTML5**という仕様が使われています。    \n",
    "本課外プロジェクトでも、HTML5の仕様を元に進めていきます。\n",
    "<!--\n",
    "|バージョン|開発組織|特徴|\n",
    "|:--|:--:|:--|\n",
    "|公式な仕様の発表以前|CERN|test|\n",
    "|HTML 1.0, HTML+|IETF|test|\n",
    "|HTML 2.0|IETF|test|\n",
    "|HTML 3.0, HTML 3.2|W3C|test|\n",
    "|HTML 4.0, HTML 4.01|W3C|test|\n",
    "|HTML5, HTML 5.1,<br>HTML Living Standard|WHATWG, W3C|HTML Living Standardは、WHATWGが更新し続けている最新の仕様<br>この仕様を元にW3CがHTML5, HTML5.1を勧告している|\n",
    "-->\n",
    "<div style=\"text-align:center;margin-top:20px\">\n",
    "<figure style=\"display:inline-block\" >\n",
    "<img src=\"./pic1-3.png\" alt=\"Webアプリケーションの例\" style=\"width:auto;height:auto;max-width:400px;max-height:200px;\">\n",
    "<figcaption style=\"text-align: center\">図1-3 Webアプリケーション <a href=\"http://everytimezone.com/\">Every Time Zone</a></figcaption>\n",
    "</figure>\n",
    "<figure style=\"display:inline-block\">\n",
    "<img src=\"./pic1-4.png\" alt=\"Web、スマートフォン向けゲームアプリの例\" style=\"width:auto;height:auto;max-width:400px;max-height:200px;\">\n",
    "<figcaption style=\"text-align: center\">図1-4 ゲームアプリ開発環境 <a href=\"http://tyrano.jp/\">ティラノスクリプト</a></figcaption>\n",
    "</figure>\n",
    "</div>"
   ]
  },
  {
   "cell_type": "markdown",
   "metadata": {},
   "source": [
    "### §1-2. HTMLでHelloWorldを書く"
   ]
  },
  {
   "cell_type": "markdown",
   "metadata": {
    "collapsed": false
   },
   "source": [
    "以下のHTMLは、\"Hello, world\" を表示する例です。    \n",
    "<p style=\"padding-left: 10px\"><em>ex1-1.html</em></p>\n",
    "```html\n",
    "<!DOCTYPE html>\n",
    "<html lang=\"en\">\n",
    " \n",
    "<head>\n",
    "    <meta charset=\"UTF-8\">\n",
    "    <title>Hello World Sample Code</title>\n",
    "</head>\n",
    " \n",
    "<body>\n",
    "    <p>Hello, world</p>\n",
    "    <!-- ここはコメント -->\n",
    "</body>\n",
    " \n",
    "</html>\n",
    "```\n",
    "このファイルを保存してブラウザから開くとツールバーには\"Hello World Sample Code\"と表示され、画面には\"Hello, world\"という一文が表示されます。   \n",
    "次のセクションでは、このコードを元にしつつHTMLの基本構文を説明していきます。"
   ]
  },
  {
   "cell_type": "markdown",
   "metadata": {},
   "source": [
    "### §1-3. HTMLの基本構文"
   ]
  },
  {
   "cell_type": "markdown",
   "metadata": {},
   "source": [
    "##### DOCTYPE宣言\n",
    "HTMLは、**DOCTYPE宣言(文章型宣言)**を書くことから始めます。  \n",
    "DOCTYPE宣言によって、**HTMLがどのバージョンのものか**を明確にしています。HTML5であることを示すには、以下のように書きます。\n",
    "```html\n",
    "<!DOCTYPE html>\n",
    "```\n",
    "文字の大小の区別はしないため、以下のように書くこともできます。\n",
    "```html\n",
    "<!doctype html>\n",
    "```\n",
    "HTML4.01のときは、次のようなDOCTYPE宣言がされていました。\n",
    "```html\n",
    "<!DOCTYPE HTML PUBLIC \"-//W3C//DTD HTML 4.01 Transitional//EN\" \"http://www.w3.org/TR/html4/loose.dtd\">\n",
    "```\n",
    "HTML4.01までのDOCTYPE宣言は、その文書がどんな定義(DTD)にもとづいて書かれているかを正確に記述するために、長い表記をしていました。しかし、実際にブラウザが正確に記述を読み取っていないことや、記述されたコードが厳密に定義に沿っていないものが多く存在しました。そのため、HTML5では長い記述は不要と判断されて、シンプルな記述になりました。"
   ]
  },
  {
   "cell_type": "markdown",
   "metadata": {},
   "source": [
    "##### 要素\n",
    "HTMLは、**要素(element)**の集まりで書かれています。\n",
    "要素は、図1.2のように <span style=\"background-color: #F5F5F5; padding: 2px; margin: 2px; border-radius: 2px; border: 1px solid black;\">&lt;</span>と<span style=\"background-color: #F5F5F5; padding: 2px; margin: 2px; border-radius: 2px; border: 1px solid black;\">&gt;</span>で囲まれる**開始タグ**、<span style=\"background-color: #F5F5F5; padding: 2px; margin: 2px; border-radius: 2px; border: 1px solid black;\">&lt;/</span>と<span style=\"background-color: #F5F5F5; padding: 2px; margin: 2px; border-radius: 2px; border: 1px solid black;\">&gt;</span>で囲まれる**終了タグ**、その間の要素の内容で構成されます。\n",
    "<figure>\n",
    "<img src=\"./pic1-5.png\" alt=\"要素の構成\" style=\"width:auto;height:auto;max-width:350px;max-height:200px;\">\n",
    "<figcaption style=\"text-align: center\">図1.5 要素の構成</figcaption>\n",
    "</figure>\n",
    "開始タグしか持たない要素も存在します。*ex1-1.html* では<span style=\"background-color: #F5F5F5; padding: 2px; margin: 2px; border-radius: 2px; border: 1px solid black;\">&lt;meta&gt;</span>要素が、終了タグを持ちません。  "
   ]
  },
  {
   "cell_type": "markdown",
   "metadata": {},
   "source": [
    "##### ブロックレベル要素とインライン要素\n",
    "要素の種類には、**ブロックレベル要素**と**インライン要素**があります。  \n",
    "ブロックレベル要素とは、見出し、段落などのように一つのかたまりと見なされる要素です。ブロックレベル要素には以下のようなものがあります。\n",
    "<p style=\"background-color: #E3F2FD; padding: 5px 10px 5px 10px; margin: 10px 2px 10px 0px; border-radius: 2px; border: 1px solid #64B5F6;\">&lt;head&gt;, &lt;body&gt;, &lt;h1&gt;-&lt;h6&gt;, &lt;p&gt;, &lt;div&gt;, ...</p>\n",
    "それに対してインライン要素とは、文中に挿入されて用いられる要素で、ブロックレベル要素の中に含まれます。     \n",
    "インライン要素の中に、ブロックレベル要素が含まれてはいけません。\n",
    "\n",
    "<span style=\"background-color: #F5F5F5; padding: 2px; margin: 2px; border-radius: 2px; border: 1px solid black;\">&lt;html&gt;</span>要素\n",
    "*ex1-1.html* の各要素の入れ子の関係は、以下のように**ツリー構造**で表すことができます。\n",
    "<pre>\n",
    "html\n",
    "├── head\n",
    "│   ├── meta\n",
    "│   └── title\n",
    "└── body\n",
    "    └── p\n",
    "</pre>"
   ]
  },
  {
   "cell_type": "markdown",
   "metadata": {},
   "source": [
    "##### コメント\n",
    "<span style=\"background-color: #F5F5F5; padding: 2px; margin: 2px; border-radius: 2px; border: 1px solid black;\">&lt;!--</span> と <span style=\"background-color: #F5F5F5; padding: 2px; margin: 2px; border-radius: 2px; border: 1px solid black;\">&gt;</span> で囲まれた部分があります。これはコメントで、文中の好きな箇所に挿入できます。  "
   ]
  },
  {
   "cell_type": "markdown",
   "metadata": {},
   "source": [
    "##### スタイルシート\n",
    "\n"
   ]
  },
  {
   "cell_type": "markdown",
   "metadata": {},
   "source": [
    "##### 要素の属性\n",
    "要素は、いくつかの**属性**を持ちます。属性の値を指定することで、要素についての設定を変更することができます。        \n",
    "属性の値は、以下のように開始タグの中に書くことで指定できます。\n",
    "<p style=\"background-color: #E3F2FD; padding: 5px 10px 5px 10px; margin: 10px 2px 10px 0px; border-radius: 2px; border: 1px solid #64B5F6;\">&lt;要素名 属性=値&gt; ... &lt;/要素名&gt;</p>\n",
    "<span style=\"background-color: #F5F5F5; padding: 2px; margin: 2px; border-radius: 2px; border: 1px solid black;\">&lt;p&gt;</span>要素であれば、`<p id=\"message\">サンプルテキスト</p>` というように書くことができます。"
   ]
  },
  {
   "cell_type": "markdown",
   "metadata": {},
   "source": [
    "##### 汎用属性\n",
    "ほとんどの要素で使うことができる**汎用属性**と呼ばれるものがあります。主な汎用属性には以下のようなものがあります。\n",
    "\n",
    "|属性|用途|\n",
    "|:--:|:--|\n",
    "|**id**|要素に一意な名前を指定する。スクリプトやスタイルシートから要素を特定するために使われる|\n",
    "|**class**|複数の要素に共通のクラス名を指定する。スクリプトやスタイルシートから、同じclass属性の値をもつ要素を特定するために使われる|\n",
    "|**style**|要素に直接スタイルシートを指定する。属性の値に指定することで、別の箇所で指定されたスタイルシートより優先的に適用される|\n",
    "|**lang**|HTML文書の言語を指定する。英語であれば、**lang=\"en\"**と指定し、日本語であれば**lang=\"ja\"**と指定する。|"
   ]
  },
  {
   "cell_type": "markdown",
   "metadata": {},
   "source": [
    "##### 要素の一覧\n",
    "最後に、よく使われる要素について見てみましょう。より詳しくは、[HTMLリファレンス](http://www.htmq.com/html5/index.shtml)が参考になります。\n",
    "\n",
    "|要素|属性値の設定例|用途|\n",
    "|:--:|:--|:--|\n",
    "|**`<html>`**|lang=\"ja\"|**`<head>`**要素と**`<body>`**要素を含む|\n",
    "|**`<head>`**||**`<meta>`**要素、**`<title>`**要素などの文書のメタデータを含む|\n",
    "|**`<meta>`**|charset=\"UTF-8\"|文書のメタデータを指定する。charset属性を用いることで、文字エンコーディングの指定ができる|\n",
    "|**`<title>`**||ツールバーに表示する文字列を指定する。|\n",
    "|**`<link>`**|rel=\"stylesheet\" href=\"default.css\"|外部リソースの指定をする。CSSファイルの指定によく使われる|\n",
    "|**`<style>`**|type=\"text/css\" (初期値)|CSSの記述をする|\n",
    "|**`<script>`**|src=\"path_to_jsfile.js\" type=\"text/javascript\" (初期値)|実行するJavaScriptのソースコードを記述する。また、コードが書かれた外部ファイルを読み込むこともできる|\n",
    "|**`<body>`**||表示するHTML本文を記述する|\n",
    "|**`<div>`**|id=\"some_id\" class=\"some_class\"|複数の要素を一つのグループにまとめる|\n",
    "|**`<p>`**||段落(paragraph)に表示したい文章を記述する|\n",
    "|**`<a>`**|href=\"path_to_dest.html\" (URL / ファイルパス指定)|ハイパーリンクを作る。アンカー要素とよばれる。|\n",
    "|**`<br>`**||改行を挿入する|\n",
    "|**`<ul>`**||順序なしリストを表示する<br>例<br>&lt;ul&gt;<br>&nbsp;&nbsp;&nbsp;&nbsp;&lt;li&gt;りんご&lt;/li&gt;<br>&nbsp;&nbsp;&nbsp;&nbsp;&lt;li&gt;バナナ&lt;/li&gt;<br>&lt;/ul&gt;|\n",
    "|**`<ol>`**||順序つきリストを表示する。手順を示すときなどに用いる<br>例:<br>&lt;ol&gt;<br>&nbsp;&nbsp;&nbsp;&nbsp;&lt;li&gt;野菜を切る&lt;/li&gt;<br>&nbsp;&nbsp;&nbsp;&nbsp;&lt;li&gt;野菜と肉を炒める&lt;/li&gt;<br>&nbsp;&nbsp;&nbsp;&nbsp;&lt;li&gt;お皿にもる&lt;/li&gt;<br>&lt;/ol&gt;|\n",
    "|**`<li>`**||リストに項目を追加する|\n",
    "|**`<h1>-<h6>`**||見出しを表示。**`<h1>`**が最も大きい見出しで、**`<h6>`**まで順に小さくなる<br>`<h1>大見出し</h1>`|\n",
    "|**`<img>`**|src: 画像ファイルのURL、パスを指定<br>alt: 代替テキストを指定|png, jpeg, gifなどの画像ファイルを表示する。<br>alt属性の値は、画像がリンク切れのときと、画像の上にマウスを置いたときに表示される。<br>例:<br>`<img src=\"path_to_image.png\" alt=\"代替テキスト\">`|\n",
    "|**`<table>`**|src: 画像ファイルのURL、パスを指定<br>alt: 代替テキストを指定|表を表示する。<br>例:<br>&lt;table&gt;<br>&nbsp;&nbsp;&nbsp;&nbsp;&lt;tr&gt;&lt;th&gt;項目1の見出し&lt;/th&gt;&lt;th&gt;項目2の見出し&lt;/th&gt;&lt;/tr&gt;<br>&nbsp;&nbsp;&nbsp;&nbsp;&lt;tr&gt;&lt;td&gt;項目1a&lt;/td&gt;&lt;td&gt;項目2a&lt;/td&gt;&lt;/tr&gt;<br>&nbsp;&nbsp;&nbsp;&nbsp;&lt;tr&gt;&lt;td&gt;項目1b&lt;/td&gt;&lt;td&gt;項目2b&lt;/td&gt;&lt;/tr&gt;<br>&lt;/table&gt;|"
   ]
  },
  {
   "cell_type": "markdown",
   "metadata": {},
   "source": [
    "## §2. JavaScriptとは何か"
   ]
  },
  {
   "cell_type": "markdown",
   "metadata": {},
   "source": [
    "JavaScriptとは、主にWebページに動的な演出を加えることを目的としたプログラミング言語です。HTMLがWebページの文書構造を記述しているのに対し、JavaScriptは、時刻やページを見る人の操作にしたがって、HTMLの要素の内容を動的に変えることができます。JavaScriptは、非常に多くのWebページに、組み込まれています。本資料の冒頭で説明した、[Google](https://www.google.co.jp/)、[EveryTimeZone](http://everytimezone.com/)(図1-1)や[ティラノスクリプト](http://tyrano.jp/)(図1-2)にも、HTML5とともにJavaScriptが使われています。\n",
    "\n",
    "<figure>\n",
    "<img src=\"./pic2-1.png\" alt=\"図2-1. HTMLとJavaScriptを用いて動的なWebページが作られている\" style=\"width:auto;height:auto;max-width:350px;max-height:200px;\">\n",
    "<figcaption style=\"text-align: center\">図2-1. HTMLとJavaScriptを用いて動的なWebページが作られている</figcaption>\n",
    "</figure>\n",
    "\n",
    "##### JavaとJavaScript\n",
    "JavaScriptは、1990年代にNetscape社によってLiveScriptという名前で開発されました。当時Netscape社と業務提携していたSun Microsystems社の開発したJavaという言語が大きく流行ったため、JavaScriptという名前に変更されました。そのため、JavaとJavaScriptは名前は似ていても中身は全く別物です。"
   ]
  },
  {
   "cell_type": "markdown",
   "metadata": {},
   "source": [
    "### §2-1. フロントエンドJS"
   ]
  },
  {
   "cell_type": "markdown",
   "metadata": {
    "collapsed": true
   },
   "source": [
    "ブラウザ上で実行できるJavaScriptを、特に**フロントエンドJS**と呼んでいます。フロントエンドJSは、以下のようにHTMLに<span style=\"background-color: #F5F5F5; padding: 2px; margin: 2px; border-radius: 2px; border: 1px solid black;\">&lt;script&gt;</span>要素を記述して、"
   ]
  },
  {
   "cell_type": "markdown",
   "metadata": {},
   "source": [
    "<p style=\"padding-left: 10px\"><em>ex2-1.html</em></p>\n",
    "```html\n",
    "<!DOCTYPE html>\n",
    "<html>\n",
    "<head>\n",
    "    <meta charset=\"UTF-8\">\n",
    "</head>\n",
    "<body>\n",
    "    <script>\n",
    "    \n",
    "    </script>\n",
    "</body>\n",
    "</html>\n",
    "```"
   ]
  },
  {
   "cell_type": "markdown",
   "metadata": {},
   "source": []
  },
  {
   "cell_type": "markdown",
   "metadata": {},
   "source": [
    "<p style=\"padding-left: 10px\"><em>ex2-2.html</em></p>\n",
    "```html\n",
    "<!DOCTYPE html>\n",
    "<html>\n",
    "<head>\n",
    "    <meta charset=\"UTF-8\">\n",
    "</head>\n",
    "<body>\n",
    "    <script src=\"./ex2-2.js\"></script>\n",
    "</body>\n",
    "</html>\n",
    "```\n",
    "<p style=\"padding-left: 10px\"><em>ex2-2.js</em></p>\n",
    "```javascript\n",
    "var content = document.body.createElement(\"p\");\n",
    "content.addChild(\"\");\n",
    "```"
   ]
  },
  {
   "cell_type": "markdown",
   "metadata": {},
   "source": [
    "#### §1-3-2. jupyterでNode.jsを使おう"
   ]
  },
  {
   "cell_type": "markdown",
   "metadata": {
    "collapsed": true
   },
   "source": [
    "**Node.js**とは、サーバーサイドJavaScript環境と呼ばれているもので、これを利用することで、ターミナルにコマンドを打ち込むだけでJavaScriptのコードを実行することができます。\n",
    "\n",
    "今回、Node.jsの環境をjupyter上に用意しました。\n",
    "\n",
    "以下のコードが書いてある部分をクリックし、'1234' という数値を好きな値に書き換えて、ツールバーにある再生ボタンをクリックしてみましょう。"
   ]
  },
  {
   "cell_type": "code",
   "execution_count": 1,
   "metadata": {
    "collapsed": false
   },
   "outputs": [
    {
     "name": "stdout",
     "output_type": "stream",
     "text": [
      "Hello, Node.js!\n",
      "Your input number is '1234'.\n"
     ]
    }
   ],
   "source": [
    "// コードここから\n",
    "var i = 1234;\n",
    "console.log(\"Hello, Node.js!\\nYour input number is '\" + i + \"'.\");\n",
    "// コードここまで"
   ]
  },
  {
   "cell_type": "markdown",
   "metadata": {
    "collapsed": true
   },
   "source": [
    "ブラウザで動くJavaScriptとNode.jsの簡単な違い(console.logとか)"
   ]
  },
  {
   "cell_type": "markdown",
   "metadata": {},
   "source": [
    "### §1-4. DOMを理解しよう"
   ]
  },
  {
   "cell_type": "markdown",
   "metadata": {},
   "source": [
    "**DOM**(Document Object Model)とは、各要素に動的にアクセスする仕組み(API)のことです。  \n",
    "Web上で実行できるJavaScriptなど言語からDOMを扱い、属性の値や要素の内容を取得・変更することが出来ます。"
   ]
  },
  {
   "cell_type": "markdown",
   "metadata": {
    "collapsed": true
   },
   "source": [
    "JavaScriptの簡単な説明\n",
    "JavaScriptからDOMを扱う例だよ\n",
    "\n",
    "DOMのいろんな操作はいらない。\n",
    "関数を説明してないからコールバック関数も書かない。addEventListener()は関数のセクションにぶっこむ。\n",
    "最悪、setTimeout()とかalert()使うか…\n",
    "\n",
    "端的にDOMをどうやって扱うかを説明できれば終わり。"
   ]
  },
  {
   "cell_type": "markdown",
   "metadata": {},
   "source": [
    "```javascript\n",
    "var tweetForm = document.getElementById(\"tweet\");\n",
    "```"
   ]
  },
  {
   "cell_type": "markdown",
   "metadata": {},
   "source": [
    "### §1-5. 関数"
   ]
  },
  {
   "cell_type": "markdown",
   "metadata": {},
   "source": [
    "#### §1-5-1. 関数とは"
   ]
  },
  {
   "cell_type": "markdown",
   "metadata": {},
   "source": [
    "\n",
    "めも：\n",
    "今まで説明した命令で、簡潔な例。を題材にして、意味のある関数名を付ける。\n",
    "\n",
    "[10:21]  \n",
    "これでだいぶマシになるかと。\n",
    "\n",
    "[10:22]  \n",
    "innerHTML adjacent 系で文字列でタグを埋め込む方法より、createText, appendChild等を使った方法で、その複数行を関数化で省略できる。のほうがありがたみ強いですよね。"
   ]
  },
  {
   "cell_type": "markdown",
   "metadata": {},
   "source": [
    "```javascript\n",
    "document.addEventListener( 'DOMContentLoaded', function(){\n",
    "  document.body.appendChild(document.createTextNode(location.href));\n",
    "}, false );\n",
    "```\n",
    "\n",
    "※ DOMContentLoaded にすべきか、init()っていう関数呼び出すだけにするか\n",
    "DOMContentLoadedいらないのでは？って気がする\n",
    "\n",
    "これを複数行な感じに拡大して、関数化していい感じでしょ？ってのを示す。\n",
    "\n",
    "innerHTMLは下手に書く癖つけるとXSSの脆弱性ができるっぽいので、botterのコードに合わせて\n",
    "\n",
    "messageList.innerHTML = \"\";\n",
    "\n",
    "みたいな処理書いて、あとはappendChild()のほうが良さそう？"
   ]
  },
  {
   "cell_type": "code",
   "execution_count": null,
   "metadata": {
    "collapsed": true
   },
   "outputs": [],
   "source": []
  },
  {
   "cell_type": "markdown",
   "metadata": {},
   "source": [
    "#### §1-5-2. 無名関数とは"
   ]
  },
  {
   "cell_type": "markdown",
   "metadata": {
    "collapsed": true
   },
   "source": [
    "一言で、「無名関数便利じゃない？主にコールバック関数に無名関数が使われるよ」ってのを示す。\n",
    "\n",
    "幾つかコールバック関数を引数にとる関数の例を見てみましょう。\n",
    "\n",
    "botterのに習って\n",
    "- map\n",
    "- forEach\n",
    "- addEventListener\n",
    "の3つを紹介する\n",
    "\n",
    "※botterのコード自体はまだ参照させなくてもいいかな、と言う感じがする。\n",
    "（botterのコードとできるだけ近いコードを例に上げるようにする）\n",
    "\n",
    "'tweets'とかここまでの文脈にないし、（たとえ抜粋したとしても）botterのコード往復させる感じよりは、\n",
    "上から読み進めていったら必要なものは全て揃ってました。最後に確認がてらbotterのコード見ましょう、のほうが個人的に良い気がする\n",
    "\n",
    "※ただ、セクションごとは独立させないで、前で使った内容をすぐに次以降でも使うようしたほうが良い。\n",
    "その繰り返しで、botterまできてた、ってのがよい\n",
    "逆に、まだ説明しない内容は一切書かないってくらいにしたい。あとで説明するとか極力書かない"
   ]
  },
  {
   "cell_type": "markdown",
   "metadata": {},
   "source": [
    "### §1-6. localStorage を使おう"
   ]
  },
  {
   "cell_type": "markdown",
   "metadata": {},
   "source": [
    "ここまでの知識　＋ localStorageを使って、なんか動いてるもんを作る"
   ]
  },
  {
   "cell_type": "markdown",
   "metadata": {},
   "source": [
    "### §1-7. Immutable.js を使おう"
   ]
  },
  {
   "cell_type": "markdown",
   "metadata": {},
   "source": [
    "#### §1-7-1. Immutable.js とは"
   ]
  },
  {
   "cell_type": "markdown",
   "metadata": {},
   "source": [
    "facebook社製のJavaScriptライブラリ\n",
    "JavaScriptにコレクションって呼ばれるたぐいのデータ構造を提供してくれるライブラリだよ！\n",
    "\n",
    "- Immutable.List\n",
    "- Immutable.Map\n"
   ]
  },
  {
   "cell_type": "markdown",
   "metadata": {},
   "source": [
    "### §1-8. Botter を作ろう"
   ]
  },
  {
   "cell_type": "code",
   "execution_count": null,
   "metadata": {
    "collapsed": true
   },
   "outputs": [],
   "source": [
    "多分、全部説明した。\n",
    "\n",
    "\n",
    "。。。あとは、「演習」と「チェックポイント」を挟んでくアレだ。\n",
    "全部演習するような内容なさそうだし、チェックポイント中心に各セクションにこまめにおいていくのが良いのでは？"
   ]
  },
  {
   "cell_type": "markdown",
   "metadata": {},
   "source": [
    "## 演習"
   ]
  },
  {
   "cell_type": "markdown",
   "metadata": {},
   "source": [
    "以下のプログラムをifが式であることを利用して、書き直せ。"
   ]
  },
  {
   "cell_type": "markdown",
   "metadata": {},
   "source": [
    "1. HTML5\n",
    "    1. 文字エンコーディングを\"UTF-8\"に指定するコードを書け。\n",
    "    1. `js/sample.js`を読み込むコードを書け。\n",
    "    1. `css/common.css`を読み込むコードを書け。また、このコードは普通HTMLファイルのどこに書かれるか。"
   ]
  },
  {
   "cell_type": "code",
   "execution_count": null,
   "metadata": {
    "collapsed": true
   },
   "outputs": [],
   "source": []
  }
 ],
 "metadata": {
  "kernelspec": {
   "display_name": "NodeJS",
   "language": "javascript",
   "name": "nodejs"
  },
  "language_info": {
   "codemirror_mode": "javascript",
   "file_extension": "js",
   "mimetype": "text/javascript",
   "name": "nodejs",
   "pygments_lexer": "javascript",
   "version": "0.10"
  }
 },
 "nbformat": 4,
 "nbformat_minor": 0
}
